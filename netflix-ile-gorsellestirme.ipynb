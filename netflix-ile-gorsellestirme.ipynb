{
 "cells": [
  {
   "cell_type": "code",
   "execution_count": 1,
   "id": "5a3d36d1",
   "metadata": {
    "_cell_guid": "b1076dfc-b9ad-4769-8c92-a6c4dae69d19",
    "_uuid": "8f2839f25d086af736a60e9eeb907d3b93b6e0e5",
    "execution": {
     "iopub.execute_input": "2022-07-23T06:22:29.974230Z",
     "iopub.status.busy": "2022-07-23T06:22:29.973125Z",
     "iopub.status.idle": "2022-07-23T06:22:29.997917Z",
     "shell.execute_reply": "2022-07-23T06:22:29.996719Z"
    },
    "papermill": {
     "duration": 0.049735,
     "end_time": "2022-07-23T06:22:30.000827",
     "exception": false,
     "start_time": "2022-07-23T06:22:29.951092",
     "status": "completed"
    },
    "tags": []
   },
   "outputs": [
    {
     "name": "stdout",
     "output_type": "stream",
     "text": [
      "/kaggle/input/netflix-original-films-imdb-scores/NetflixOriginals.csv\n"
     ]
    }
   ],
   "source": [
    "# This Python 3 environment comes with many helpful analytics libraries installed\n",
    "# It is defined by the kaggle/python Docker image: https://github.com/kaggle/docker-python\n",
    "# For example, here's several helpful packages to load\n",
    "\n",
    "import numpy as np # linear algebra\n",
    "import pandas as pd # data processing, CSV file I/O (e.g. pd.read_csv)\n",
    "\n",
    "# Input data files are available in the read-only \"../input/\" directory\n",
    "# For example, running this (by clicking run or pressing Shift+Enter) will list all files under the input directory\n",
    "\n",
    "import os\n",
    "for dirname, _, filenames in os.walk('/kaggle/input'):\n",
    "    for filename in filenames:\n",
    "        print(os.path.join(dirname, filename))\n",
    "\n",
    "# You can write up to 20GB to the current directory (/kaggle/working/) that gets preserved as output when you create a version using \"Save & Run All\" \n",
    "# You can also write temporary files to /kaggle/temp/, but they won't be saved outside of the current session"
   ]
  },
  {
   "cell_type": "code",
   "execution_count": 2,
   "id": "6f6706c9",
   "metadata": {
    "execution": {
     "iopub.execute_input": "2022-07-23T06:22:30.033553Z",
     "iopub.status.busy": "2022-07-23T06:22:30.033138Z",
     "iopub.status.idle": "2022-07-23T06:22:31.320878Z",
     "shell.execute_reply": "2022-07-23T06:22:31.319983Z"
    },
    "papermill": {
     "duration": 1.307166,
     "end_time": "2022-07-23T06:22:31.323384",
     "exception": false,
     "start_time": "2022-07-23T06:22:30.016218",
     "status": "completed"
    },
    "tags": []
   },
   "outputs": [],
   "source": [
    "import pandas as pd\n",
    "import numpy as np\n",
    "from matplotlib import pyplot as plt\n",
    "import seaborn as sns"
   ]
  },
  {
   "cell_type": "code",
   "execution_count": 3,
   "id": "fe72a91d",
   "metadata": {
    "execution": {
     "iopub.execute_input": "2022-07-23T06:22:31.357169Z",
     "iopub.status.busy": "2022-07-23T06:22:31.356003Z",
     "iopub.status.idle": "2022-07-23T06:22:31.361246Z",
     "shell.execute_reply": "2022-07-23T06:22:31.360398Z"
    },
    "papermill": {
     "duration": 0.024941,
     "end_time": "2022-07-23T06:22:31.363337",
     "exception": false,
     "start_time": "2022-07-23T06:22:31.338396",
     "status": "completed"
    },
    "tags": []
   },
   "outputs": [],
   "source": [
    "pd.set_option('display.max_rows', None)\n",
    "pd.set_option('display.max_columns', None)\n",
    "pd.set_option('display.width', 500)"
   ]
  },
  {
   "cell_type": "code",
   "execution_count": 4,
   "id": "c67fd2f3",
   "metadata": {
    "execution": {
     "iopub.execute_input": "2022-07-23T06:22:31.395687Z",
     "iopub.status.busy": "2022-07-23T06:22:31.394937Z",
     "iopub.status.idle": "2022-07-23T06:22:31.413469Z",
     "shell.execute_reply": "2022-07-23T06:22:31.412322Z"
    },
    "papermill": {
     "duration": 0.038031,
     "end_time": "2022-07-23T06:22:31.416220",
     "exception": false,
     "start_time": "2022-07-23T06:22:31.378189",
     "status": "completed"
    },
    "tags": []
   },
   "outputs": [],
   "source": [
    "df=pd.read_csv(\"../input/netflix-original-films-imdb-scores/NetflixOriginals.csv\", encoding = \"ISO-8859-1\")"
   ]
  },
  {
   "cell_type": "code",
   "execution_count": 5,
   "id": "8577fb43",
   "metadata": {
    "execution": {
     "iopub.execute_input": "2022-07-23T06:22:31.447775Z",
     "iopub.status.busy": "2022-07-23T06:22:31.447334Z",
     "iopub.status.idle": "2022-07-23T06:22:31.469251Z",
     "shell.execute_reply": "2022-07-23T06:22:31.468423Z"
    },
    "papermill": {
     "duration": 0.0402,
     "end_time": "2022-07-23T06:22:31.471452",
     "exception": false,
     "start_time": "2022-07-23T06:22:31.431252",
     "status": "completed"
    },
    "tags": []
   },
   "outputs": [
    {
     "data": {
      "text/html": [
       "<div>\n",
       "<style scoped>\n",
       "    .dataframe tbody tr th:only-of-type {\n",
       "        vertical-align: middle;\n",
       "    }\n",
       "\n",
       "    .dataframe tbody tr th {\n",
       "        vertical-align: top;\n",
       "    }\n",
       "\n",
       "    .dataframe thead th {\n",
       "        text-align: right;\n",
       "    }\n",
       "</style>\n",
       "<table border=\"1\" class=\"dataframe\">\n",
       "  <thead>\n",
       "    <tr style=\"text-align: right;\">\n",
       "      <th></th>\n",
       "      <th>Title</th>\n",
       "      <th>Genre</th>\n",
       "      <th>Premiere</th>\n",
       "      <th>Runtime</th>\n",
       "      <th>IMDB Score</th>\n",
       "      <th>Language</th>\n",
       "    </tr>\n",
       "  </thead>\n",
       "  <tbody>\n",
       "    <tr>\n",
       "      <th>0</th>\n",
       "      <td>Enter the Anime</td>\n",
       "      <td>Documentary</td>\n",
       "      <td>August 5, 2019</td>\n",
       "      <td>58</td>\n",
       "      <td>2.5</td>\n",
       "      <td>English/Japanese</td>\n",
       "    </tr>\n",
       "    <tr>\n",
       "      <th>1</th>\n",
       "      <td>Dark Forces</td>\n",
       "      <td>Thriller</td>\n",
       "      <td>August 21, 2020</td>\n",
       "      <td>81</td>\n",
       "      <td>2.6</td>\n",
       "      <td>Spanish</td>\n",
       "    </tr>\n",
       "    <tr>\n",
       "      <th>2</th>\n",
       "      <td>The App</td>\n",
       "      <td>Science fiction/Drama</td>\n",
       "      <td>December 26, 2019</td>\n",
       "      <td>79</td>\n",
       "      <td>2.6</td>\n",
       "      <td>Italian</td>\n",
       "    </tr>\n",
       "    <tr>\n",
       "      <th>3</th>\n",
       "      <td>The Open House</td>\n",
       "      <td>Horror thriller</td>\n",
       "      <td>January 19, 2018</td>\n",
       "      <td>94</td>\n",
       "      <td>3.2</td>\n",
       "      <td>English</td>\n",
       "    </tr>\n",
       "    <tr>\n",
       "      <th>4</th>\n",
       "      <td>Kaali Khuhi</td>\n",
       "      <td>Mystery</td>\n",
       "      <td>October 30, 2020</td>\n",
       "      <td>90</td>\n",
       "      <td>3.4</td>\n",
       "      <td>Hindi</td>\n",
       "    </tr>\n",
       "  </tbody>\n",
       "</table>\n",
       "</div>"
      ],
      "text/plain": [
       "             Title                  Genre           Premiere  Runtime  IMDB Score          Language\n",
       "0  Enter the Anime            Documentary     August 5, 2019       58         2.5  English/Japanese\n",
       "1      Dark Forces               Thriller    August 21, 2020       81         2.6           Spanish\n",
       "2          The App  Science fiction/Drama  December 26, 2019       79         2.6           Italian\n",
       "3   The Open House        Horror thriller   January 19, 2018       94         3.2           English\n",
       "4      Kaali Khuhi                Mystery   October 30, 2020       90         3.4             Hindi"
      ]
     },
     "execution_count": 5,
     "metadata": {},
     "output_type": "execute_result"
    }
   ],
   "source": [
    "df.head()"
   ]
  },
  {
   "cell_type": "code",
   "execution_count": 6,
   "id": "375811b8",
   "metadata": {
    "execution": {
     "iopub.execute_input": "2022-07-23T06:22:31.504848Z",
     "iopub.status.busy": "2022-07-23T06:22:31.504060Z",
     "iopub.status.idle": "2022-07-23T06:22:31.508961Z",
     "shell.execute_reply": "2022-07-23T06:22:31.508162Z"
    },
    "papermill": {
     "duration": 0.02407,
     "end_time": "2022-07-23T06:22:31.511085",
     "exception": false,
     "start_time": "2022-07-23T06:22:31.487015",
     "status": "completed"
    },
    "tags": []
   },
   "outputs": [],
   "source": [
    "df.columns = [i.replace(' ', '_') for i in df.columns]"
   ]
  },
  {
   "cell_type": "code",
   "execution_count": 7,
   "id": "7dacef49",
   "metadata": {
    "execution": {
     "iopub.execute_input": "2022-07-23T06:22:31.544035Z",
     "iopub.status.busy": "2022-07-23T06:22:31.543289Z",
     "iopub.status.idle": "2022-07-23T06:22:31.550268Z",
     "shell.execute_reply": "2022-07-23T06:22:31.549386Z"
    },
    "papermill": {
     "duration": 0.026099,
     "end_time": "2022-07-23T06:22:31.552415",
     "exception": false,
     "start_time": "2022-07-23T06:22:31.526316",
     "status": "completed"
    },
    "tags": []
   },
   "outputs": [],
   "source": [
    "# keşifçi veri analizi\n",
    "def check_df(dataframe, head=5):\n",
    "    print(\"##################### Shape #####################\")\n",
    "    print(dataframe.shape)\n",
    "    print(\"##################### Types #####################\")\n",
    "    print(dataframe.dtypes)\n",
    "    print(\"##################### Head #####################\")\n",
    "    print(dataframe.head(head))\n",
    "    print(\"##################### Tail #####################\")\n",
    "    print(dataframe.tail(head))\n",
    "    print(\"##################### NA #####################\")\n",
    "    print(dataframe.isnull().sum())\n",
    "    print(\"##################### Quantiles #####################\")\n",
    "    print(dataframe.quantile([0, 0.05, 0.50, 0.95, 0.99, 1]).T)"
   ]
  },
  {
   "cell_type": "code",
   "execution_count": 8,
   "id": "6085d779",
   "metadata": {
    "execution": {
     "iopub.execute_input": "2022-07-23T06:22:31.584873Z",
     "iopub.status.busy": "2022-07-23T06:22:31.584152Z",
     "iopub.status.idle": "2022-07-23T06:22:31.610919Z",
     "shell.execute_reply": "2022-07-23T06:22:31.609928Z"
    },
    "papermill": {
     "duration": 0.045807,
     "end_time": "2022-07-23T06:22:31.613276",
     "exception": false,
     "start_time": "2022-07-23T06:22:31.567469",
     "status": "completed"
    },
    "tags": []
   },
   "outputs": [
    {
     "name": "stdout",
     "output_type": "stream",
     "text": [
      "##################### Shape #####################\n",
      "(584, 6)\n",
      "##################### Types #####################\n",
      "Title          object\n",
      "Genre          object\n",
      "Premiere       object\n",
      "Runtime         int64\n",
      "IMDB_Score    float64\n",
      "Language       object\n",
      "dtype: object\n",
      "##################### Head #####################\n",
      "             Title                  Genre           Premiere  Runtime  IMDB_Score          Language\n",
      "0  Enter the Anime            Documentary     August 5, 2019       58         2.5  English/Japanese\n",
      "1      Dark Forces               Thriller    August 21, 2020       81         2.6           Spanish\n",
      "2          The App  Science fiction/Drama  December 26, 2019       79         2.6           Italian\n",
      "3   The Open House        Horror thriller   January 19, 2018       94         3.2           English\n",
      "4      Kaali Khuhi                Mystery   October 30, 2020       90         3.4             Hindi\n",
      "##################### Tail #####################\n",
      "                                           Title         Genre           Premiere  Runtime  IMDB_Score                  Language\n",
      "579        Taylor Swift: Reputation Stadium Tour  Concert Film  December 31, 2018      125         8.4                   English\n",
      "580  Winter on Fire: Ukraine's Fight for Freedom   Documentary    October 9, 2015       91         8.4  English/Ukranian/Russian\n",
      "581                      Springsteen on Broadway  One-man show  December 16, 2018      153         8.5                   English\n",
      "582    Emicida: AmarElo - It's All For Yesterday   Documentary   December 8, 2020       89         8.6                Portuguese\n",
      "583     David Attenborough: A Life on Our Planet   Documentary    October 4, 2020       83         9.0                   English\n",
      "##################### NA #####################\n",
      "Title         0\n",
      "Genre         0\n",
      "Premiere      0\n",
      "Runtime       0\n",
      "IMDB_Score    0\n",
      "Language      0\n",
      "dtype: int64\n",
      "##################### Quantiles #####################\n",
      "            0.00   0.05   0.50   0.95     0.99   1.00\n",
      "Runtime      4.0  30.15  97.00  132.0  149.000  209.0\n",
      "IMDB_Score   2.5   4.60   6.35    7.7    8.317    9.0\n"
     ]
    }
   ],
   "source": [
    "check_df(df)"
   ]
  },
  {
   "cell_type": "markdown",
   "id": "830ba5bc",
   "metadata": {
    "papermill": {
     "duration": 0.015226,
     "end_time": "2022-07-23T06:22:31.643762",
     "exception": false,
     "start_time": "2022-07-23T06:22:31.628536",
     "status": "completed"
    },
    "tags": []
   },
   "source": [
    "Veri setine göre uzun soluklu filmler hangi dilde oluşturulmuştur? Görselleştirme yapınız."
   ]
  },
  {
   "cell_type": "code",
   "execution_count": 9,
   "id": "bca7833a",
   "metadata": {
    "execution": {
     "iopub.execute_input": "2022-07-23T06:22:31.677595Z",
     "iopub.status.busy": "2022-07-23T06:22:31.676798Z",
     "iopub.status.idle": "2022-07-23T06:22:31.691742Z",
     "shell.execute_reply": "2022-07-23T06:22:31.690856Z"
    },
    "papermill": {
     "duration": 0.034638,
     "end_time": "2022-07-23T06:22:31.694183",
     "exception": false,
     "start_time": "2022-07-23T06:22:31.659545",
     "status": "completed"
    },
    "tags": []
   },
   "outputs": [],
   "source": [
    "uzunsoluklu = df.groupby(\"Language\").agg({\"Runtime\": \"mean\"}).sort_values(by=\"Runtime\", ascending=False)"
   ]
  },
  {
   "cell_type": "code",
   "execution_count": 10,
   "id": "c3a730b3",
   "metadata": {
    "execution": {
     "iopub.execute_input": "2022-07-23T06:22:31.727103Z",
     "iopub.status.busy": "2022-07-23T06:22:31.726290Z",
     "iopub.status.idle": "2022-07-23T06:22:31.732091Z",
     "shell.execute_reply": "2022-07-23T06:22:31.731195Z"
    },
    "papermill": {
     "duration": 0.025048,
     "end_time": "2022-07-23T06:22:31.734363",
     "exception": false,
     "start_time": "2022-07-23T06:22:31.709315",
     "status": "completed"
    },
    "tags": []
   },
   "outputs": [],
   "source": [
    "uzunsoluklu.reset_index(inplace=True)"
   ]
  },
  {
   "cell_type": "code",
   "execution_count": 11,
   "id": "a8be1cb5",
   "metadata": {
    "execution": {
     "iopub.execute_input": "2022-07-23T06:22:31.768073Z",
     "iopub.status.busy": "2022-07-23T06:22:31.767609Z",
     "iopub.status.idle": "2022-07-23T06:22:31.775516Z",
     "shell.execute_reply": "2022-07-23T06:22:31.774519Z"
    },
    "papermill": {
     "duration": 0.028675,
     "end_time": "2022-07-23T06:22:31.778328",
     "exception": false,
     "start_time": "2022-07-23T06:22:31.749653",
     "status": "completed"
    },
    "tags": []
   },
   "outputs": [
    {
     "name": "stdout",
     "output_type": "stream",
     "text": [
      "                      Language     Runtime\n",
      "0                 English/Akan  136.000000\n",
      "1         Khmer/English/French  136.000000\n",
      "2                      Marathi  121.666667\n",
      "3               English/Korean  121.000000\n",
      "4              Spanish/Catalan  116.000000\n",
      "5                       Korean  115.833333\n",
      "6                        Hindi  115.787879\n",
      "7               English/Arabic  114.000000\n",
      "8                   Indonesian  103.777778\n",
      "9                      Turkish  101.800000\n",
      "10                       Malay  101.000000\n",
      "11                       Tamil  101.000000\n",
      "12                        Thai  101.000000\n",
      "13                       Dutch   99.666667\n",
      "14                      German   99.600000\n",
      "15                    Filipino   99.500000\n",
      "16                    Japanese   99.333333\n",
      "17                      Polish   98.666667\n",
      "18                     Italian   98.357143\n",
      "19             Spanish/English   96.000000\n",
      "20                     Spanish   93.387097\n",
      "21                      French   92.700000\n",
      "22                     English   91.817955\n",
      "23                  Portuguese   91.250000\n",
      "24    English/Ukranian/Russian   91.000000\n",
      "25  English/Taiwanese/Mandarin   91.000000\n",
      "26             English/Russian   90.000000\n",
      "27            English/Japanese   89.000000\n",
      "28              Spanish/Basque   89.000000\n",
      "29                     Swedish   86.000000\n",
      "30                   Norwegian   86.000000\n",
      "31                Thia/English   80.000000\n",
      "32            English/Mandarin   59.000000\n",
      "33                     Bengali   41.000000\n",
      "34             English/Swedish   40.000000\n",
      "35             English/Spanish   39.200000\n",
      "36               English/Hindi   32.500000\n",
      "37                    Georgian   23.000000\n"
     ]
    }
   ],
   "source": [
    "print(uzunsoluklu)"
   ]
  },
  {
   "cell_type": "code",
   "execution_count": 12,
   "id": "94cc22f0",
   "metadata": {
    "execution": {
     "iopub.execute_input": "2022-07-23T06:22:31.811702Z",
     "iopub.status.busy": "2022-07-23T06:22:31.810934Z",
     "iopub.status.idle": "2022-07-23T06:22:32.356960Z",
     "shell.execute_reply": "2022-07-23T06:22:32.355701Z"
    },
    "papermill": {
     "duration": 0.565552,
     "end_time": "2022-07-23T06:22:32.359572",
     "exception": false,
     "start_time": "2022-07-23T06:22:31.794020",
     "status": "completed"
    },
    "tags": []
   },
   "outputs": [
    {
     "data": {
      "image/png": "[encoded data removed]",
      "text/plain": [
       "<Figure size 864x864 with 1 Axes>"
      ]
     },
     "metadata": {
      "needs_background": "light"
     },
     "output_type": "display_data"
    }
   ],
   "source": [
    "\n",
    "f=plt.figure(figsize=(12,12))\n",
    "\n",
    "plt.barh(uzunsoluklu.Language,uzunsoluklu.Runtime,\n",
    "        color=\"#f05131\",label=\"Runtime\")\n",
    "\n",
    "plt.ylabel(\"Language\")\n",
    "plt.xlabel(\"Runtime\")\n",
    "plt.legend()\n",
    "plt.title(\"uzun soluklu filmler hangi dilde:\")\n",
    "plt.show()"
   ]
  },
  {
   "cell_type": "markdown",
   "id": "e379e2a1",
   "metadata": {
    "papermill": {
     "duration": 0.015803,
     "end_time": "2022-07-23T06:22:32.393083",
     "exception": false,
     "start_time": "2022-07-23T06:22:32.377280",
     "status": "completed"
    },
    "tags": []
   },
   "source": [
    "2019 Ocak ile 2020 Haziran tarihleri arasında 'Documentary' türünde çekilmiş filmlerin IMDB değerlerini bulup görselleştiriniz."
   ]
  },
  {
   "cell_type": "code",
   "execution_count": 13,
   "id": "d72f420d",
   "metadata": {
    "execution": {
     "iopub.execute_input": "2022-07-23T06:22:32.428546Z",
     "iopub.status.busy": "2022-07-23T06:22:32.428094Z",
     "iopub.status.idle": "2022-07-23T06:22:32.434033Z",
     "shell.execute_reply": "2022-07-23T06:22:32.432768Z"
    },
    "papermill": {
     "duration": 0.02641,
     "end_time": "2022-07-23T06:22:32.436707",
     "exception": false,
     "start_time": "2022-07-23T06:22:32.410297",
     "status": "completed"
    },
    "tags": []
   },
   "outputs": [],
   "source": [
    "import datetime as dt"
   ]
  },
  {
   "cell_type": "code",
   "execution_count": 14,
   "id": "7fcd4d48",
   "metadata": {
    "execution": {
     "iopub.execute_input": "2022-07-23T06:22:32.471730Z",
     "iopub.status.busy": "2022-07-23T06:22:32.471248Z",
     "iopub.status.idle": "2022-07-23T06:22:32.637810Z",
     "shell.execute_reply": "2022-07-23T06:22:32.636515Z"
    },
    "papermill": {
     "duration": 0.187511,
     "end_time": "2022-07-23T06:22:32.640604",
     "exception": false,
     "start_time": "2022-07-23T06:22:32.453093",
     "status": "completed"
    },
    "tags": []
   },
   "outputs": [],
   "source": [
    "# premiere tarih değişkenidir türünü düzeltiyorum:\n",
    "for col in df.columns:\n",
    "    if \"Premiere\" in col:\n",
    "        df[col] = df[col].apply(pd.to_datetime)"
   ]
  },
  {
   "cell_type": "code",
   "execution_count": 15,
   "id": "55243b2c",
   "metadata": {
    "execution": {
     "iopub.execute_input": "2022-07-23T06:22:32.675715Z",
     "iopub.status.busy": "2022-07-23T06:22:32.674626Z",
     "iopub.status.idle": "2022-07-23T06:22:32.684493Z",
     "shell.execute_reply": "2022-07-23T06:22:32.683579Z"
    },
    "papermill": {
     "duration": 0.029947,
     "end_time": "2022-07-23T06:22:32.686863",
     "exception": false,
     "start_time": "2022-07-23T06:22:32.656916",
     "status": "completed"
    },
    "tags": []
   },
   "outputs": [],
   "source": [
    "documentary_19_20 = df.loc[(df[\"Premiere\"] > \"2019-01-31\") & (df[\"Premiere\"] < \"2020-06-01\") & (df[\"Genre\"] == \"Documentary\")].sort_values(by=\"Premiere\", ascending=False)"
   ]
  },
  {
   "cell_type": "code",
   "execution_count": 16,
   "id": "08f94f30",
   "metadata": {
    "execution": {
     "iopub.execute_input": "2022-07-23T06:22:32.721345Z",
     "iopub.status.busy": "2022-07-23T06:22:32.720578Z",
     "iopub.status.idle": "2022-07-23T06:22:32.734372Z",
     "shell.execute_reply": "2022-07-23T06:22:32.733396Z"
    },
    "papermill": {
     "duration": 0.034194,
     "end_time": "2022-07-23T06:22:32.737296",
     "exception": false,
     "start_time": "2022-07-23T06:22:32.703102",
     "status": "completed"
    },
    "tags": []
   },
   "outputs": [
    {
     "name": "stdout",
     "output_type": "stream",
     "text": [
      "                                                 Title        Genre   Premiere  Runtime  IMDB_Score          Language\n",
      "401       Have a Good Trip: Adventures in Psychedelics  Documentary 2020-05-11       85         6.8           English\n",
      "396                                           Becoming  Documentary 2020-05-06       89         6.8           English\n",
      "563                                      A Secret Love  Documentary 2020-04-29       82         7.9           English\n",
      "303           Murder to Mercy: The Cyntoia Brown Story  Documentary 2020-04-29       97         6.4           English\n",
      "455                                    Circus of Books  Documentary 2020-04-22       92         7.1           English\n",
      "484                                       LA Originals  Documentary 2020-04-10       92         7.2           English\n",
      "555                 Crip Camp: A Disability Revolution  Documentary 2020-03-25      108         7.7           English\n",
      "392      A Life of Speed: The Juan Manuel Fangio Story  Documentary 2020-03-20       92         6.8           Spanish\n",
      "523                                     Miss Americana  Documentary 2020-01-31       85         7.4           English\n",
      "458                            El Pepe: A Supreme Life  Documentary 2019-12-27       73         7.1           Spanish\n",
      "15                                      After the Raid  Documentary 2019-12-19       25         4.3           Spanish\n",
      "436                         Lorena, Light-Footed Woman  Documentary 2019-11-20       28         7.0           Spanish\n",
      "367                       Bikram: Yogi, Guru, Predator  Documentary 2019-11-20       86         6.7           English\n",
      "521                                   Fire in Paradise  Documentary 2019-11-01       39         7.4           English\n",
      "320                                     A 3 Minute Hug  Documentary 2019-10-28       28         6.5   English/Spanish\n",
      "378                                   Little Miss Sumo  Documentary 2019-10-28       19         6.7          Japanese\n",
      "353                                 It Takes a Lunatic  Documentary 2019-10-25      126         6.6           English\n",
      "577                             Dancing with the Birds  Documentary 2019-10-23       51         8.3           English\n",
      "546                                   Tell Me Who I Am  Documentary 2019-10-18       85         7.6           English\n",
      "111                               Ghosts of Sugar Land  Documentary 2019-10-16       21         5.5           English\n",
      "295                                            Birders  Documentary 2019-09-25       37         6.4   English/Spanish\n",
      "437              Los Tigres del Norte at Folsom Prison  Documentary 2019-09-15       64         7.0           Spanish\n",
      "20                   Hello Privilege. It's Me, Chelsea  Documentary 2019-09-13       64         4.4           English\n",
      "460                                             Evelyn  Documentary 2019-09-10       96         7.1           English\n",
      "290                   Travis Scott: Look Mom I Can Fly  Documentary 2019-08-28       85         6.3           English\n",
      "520                                   American Factory  Documentary 2019-08-21      110         7.4           English\n",
      "0                                      Enter the Anime  Documentary 2019-08-05       58         2.5  English/Japanese\n",
      "476                                     The Great Hack  Documentary 2019-07-24      114         7.1           English\n",
      "384                           Parchis: The Documentary  Documentary 2019-07-10      106         6.7           Spanish\n",
      "494                              The Edge of Democracy  Documentary 2019-06-19      121         7.2        Portuguese\n",
      "334                                  Life Overtakes Me  Documentary 2019-06-14       40         6.5   English/Swedish\n",
      "545  Rolling Thunder Revue: A bob Dylan Story by Ma...  Documentary 2019-06-12      144         7.6           English\n",
      "527                                The Black Godfather  Documentary 2019-06-07      118         7.4           English\n",
      "30                                         After Maria  Documentary 2019-05-24       37         4.6   English/Spanish\n",
      "263                             A Tale of Two Kitchens  Documentary 2019-05-22       30         6.3   English/Spanish\n",
      "443                       ReMastered: The Lion's Share  Documentary 2019-05-17       84         7.0           English\n",
      "394                                   All in My Family  Documentary 2019-05-03       39         6.8  English/Mandarin\n",
      "466                               Knock Down the House  Documentary 2019-05-01       87         7.1           English\n",
      "442                ReMastered: Devil at the Crossroads  Documentary 2019-04-26       48         7.0           English\n",
      "462                                   Grass Is Greener  Documentary 2019-04-20       97         7.1           English\n",
      "554                   Brene Brown: The Call to Courage  Documentary 2019-04-19       76         7.7           English\n",
      "536                     Homecoming: A Film by Beyonce   Documentary 2019-04-17      137         7.5           English\n",
      "286                       The Legend of Cocaine Island  Documentary 2019-03-29       87         6.3           English\n",
      "444            ReMastered: The Miami Showband Massacre  Documentary 2019-03-22       70         7.0           English\n",
      "324          Antoine Griezmann: The Making of a Legend  Documentary 2019-03-21       60         6.5            French\n",
      "524                           Period. End of Sentence.  Documentary 2019-02-12       26         7.4     English/Hindi\n",
      "511          ReMastered: The Two Killings of Sam Cooke  Documentary 2019-02-08       64         7.3           English\n"
     ]
    }
   ],
   "source": [
    "print(documentary_19_20)"
   ]
  },
  {
   "cell_type": "code",
   "execution_count": 17,
   "id": "0c9ea5c7",
   "metadata": {
    "execution": {
     "iopub.execute_input": "2022-07-23T06:22:32.773031Z",
     "iopub.status.busy": "2022-07-23T06:22:32.771723Z",
     "iopub.status.idle": "2022-07-23T06:22:33.517926Z",
     "shell.execute_reply": "2022-07-23T06:22:33.516736Z"
    },
    "papermill": {
     "duration": 0.766751,
     "end_time": "2022-07-23T06:22:33.520308",
     "exception": false,
     "start_time": "2022-07-23T06:22:32.753557",
     "status": "completed"
    },
    "tags": []
   },
   "outputs": [
    {
     "data": {
      "image/png": "[encoded data removed]",
      "text/plain": [
       "<Figure size 864x864 with 1 Axes>"
      ]
     },
     "metadata": {
      "needs_background": "light"
     },
     "output_type": "display_data"
    }
   ],
   "source": [
    "f=plt.figure(figsize=(12,12))\n",
    "\n",
    "plt.barh(documentary_19_20.Title,documentary_19_20.IMDB_Score,\n",
    "        color=\"#f05131\",label=\"IMDB_Score\")\n",
    "\n",
    "plt.ylabel(\"Title\")\n",
    "plt.xlabel(\"IMDB_Score\")\n",
    "plt.legend()\n",
    "plt.title(\"2019 Ocak ile 2020 Haziran tarihleri arasında 'Documentary' türünde çekilmiş filmlerin IMDB değerleri\")\n",
    "plt.show()"
   ]
  },
  {
   "cell_type": "markdown",
   "id": "22cd349c",
   "metadata": {
    "papermill": {
     "duration": 0.017578,
     "end_time": "2022-07-23T06:22:33.556777",
     "exception": false,
     "start_time": "2022-07-23T06:22:33.539199",
     "status": "completed"
    },
    "tags": []
   },
   "source": [
    "İngilizce çekilen filmler içerisinde hangi tür en yüksek IMDB puanına sahiptir?"
   ]
  },
  {
   "cell_type": "code",
   "execution_count": 18,
   "id": "a6a5b3f1",
   "metadata": {
    "execution": {
     "iopub.execute_input": "2022-07-23T06:22:33.595616Z",
     "iopub.status.busy": "2022-07-23T06:22:33.594920Z",
     "iopub.status.idle": "2022-07-23T06:22:33.605597Z",
     "shell.execute_reply": "2022-07-23T06:22:33.604578Z"
    },
    "papermill": {
     "duration": 0.032643,
     "end_time": "2022-07-23T06:22:33.607801",
     "exception": false,
     "start_time": "2022-07-23T06:22:33.575158",
     "status": "completed"
    },
    "tags": []
   },
   "outputs": [
    {
     "data": {
      "text/plain": [
       "583    Documentary\n",
       "Name: Genre, dtype: object"
      ]
     },
     "execution_count": 18,
     "metadata": {},
     "output_type": "execute_result"
    }
   ],
   "source": [
    "def english_imdb(dataframe):\n",
    "    dataframe = dataframe.loc[(dataframe[\"Language\"] == \"English\")].sort_values(by=\"IMDB_Score\", ascending=False)\n",
    "    return(dataframe[\"Genre\"][0:1])\n",
    "english_imdb(df)"
   ]
  },
  {
   "cell_type": "markdown",
   "id": "2f4a1451",
   "metadata": {
    "papermill": {
     "duration": 0.018118,
     "end_time": "2022-07-23T06:22:33.644291",
     "exception": false,
     "start_time": "2022-07-23T06:22:33.626173",
     "status": "completed"
    },
    "tags": []
   },
   "source": [
    "'Hindi' Dilinde çekilmiş olan filmlerin ortalama 'runtime' suresi nedir?"
   ]
  },
  {
   "cell_type": "code",
   "execution_count": 19,
   "id": "344a3fdd",
   "metadata": {
    "execution": {
     "iopub.execute_input": "2022-07-23T06:22:33.682123Z",
     "iopub.status.busy": "2022-07-23T06:22:33.681391Z",
     "iopub.status.idle": "2022-07-23T06:22:33.690752Z",
     "shell.execute_reply": "2022-07-23T06:22:33.689855Z"
    },
    "papermill": {
     "duration": 0.03057,
     "end_time": "2022-07-23T06:22:33.692738",
     "exception": false,
     "start_time": "2022-07-23T06:22:33.662168",
     "status": "completed"
    },
    "tags": []
   },
   "outputs": [
    {
     "data": {
      "text/plain": [
       "Runtime    115.787879\n",
       "dtype: float64"
      ]
     },
     "execution_count": 19,
     "metadata": {},
     "output_type": "execute_result"
    }
   ],
   "source": [
    "df.loc[(df[\"Language\"] == \"Hindi\")].agg({\"Runtime\": \"mean\"})"
   ]
  },
  {
   "cell_type": "markdown",
   "id": "6bc9b39a",
   "metadata": {
    "papermill": {
     "duration": 0.017842,
     "end_time": "2022-07-23T06:22:33.728591",
     "exception": false,
     "start_time": "2022-07-23T06:22:33.710749",
     "status": "completed"
    },
    "tags": []
   },
   "source": [
    "'Genre' Sütunu kaç kategoriye sahiptir ve bu kategoriler nelerdir? Görselleştirerek ifade ediniz."
   ]
  },
  {
   "cell_type": "code",
   "execution_count": 20,
   "id": "8a8a66de",
   "metadata": {
    "execution": {
     "iopub.execute_input": "2022-07-23T06:22:33.766904Z",
     "iopub.status.busy": "2022-07-23T06:22:33.766166Z",
     "iopub.status.idle": "2022-07-23T06:22:33.772566Z",
     "shell.execute_reply": "2022-07-23T06:22:33.771461Z"
    },
    "papermill": {
     "duration": 0.027955,
     "end_time": "2022-07-23T06:22:33.774657",
     "exception": false,
     "start_time": "2022-07-23T06:22:33.746702",
     "status": "completed"
    },
    "tags": []
   },
   "outputs": [
    {
     "data": {
      "text/plain": [
       "115"
      ]
     },
     "execution_count": 20,
     "metadata": {},
     "output_type": "execute_result"
    }
   ],
   "source": [
    "# kaç kategori:\n",
    "df[\"Genre\"].nunique() "
   ]
  },
  {
   "cell_type": "code",
   "execution_count": 21,
   "id": "5bffc6f2",
   "metadata": {
    "execution": {
     "iopub.execute_input": "2022-07-23T06:22:33.813040Z",
     "iopub.status.busy": "2022-07-23T06:22:33.812299Z",
     "iopub.status.idle": "2022-07-23T06:22:33.820978Z",
     "shell.execute_reply": "2022-07-23T06:22:33.818783Z"
    },
    "papermill": {
     "duration": 0.031619,
     "end_time": "2022-07-23T06:22:33.824313",
     "exception": false,
     "start_time": "2022-07-23T06:22:33.792694",
     "status": "completed"
    },
    "tags": []
   },
   "outputs": [
    {
     "name": "stdout",
     "output_type": "stream",
     "text": [
      "Documentary                             159\n",
      "Drama                                    77\n",
      "Comedy                                   49\n",
      "Romantic comedy                          39\n",
      "Thriller                                 33\n",
      "Comedy-drama                             14\n",
      "Crime drama                              11\n",
      "Biopic                                    9\n",
      "Horror                                    9\n",
      "Action                                    7\n",
      "Romance                                   6\n",
      "Concert Film                              6\n",
      "Aftershow / Interview                     6\n",
      "Animation                                 5\n",
      "Action comedy                             5\n",
      "Romantic drama                            5\n",
      "Psychological thriller                    4\n",
      "Science fiction/Thriller                  4\n",
      "Variety show                              4\n",
      "Science fiction                           4\n",
      "Animation / Short                         4\n",
      "Action-thriller                           3\n",
      "Sports-drama                              3\n",
      "One-man show                              3\n",
      "Horror thriller                           3\n",
      "Western                                   3\n",
      "Science fiction/Drama                     3\n",
      "Dark comedy                               2\n",
      "Satire                                    2\n",
      "War drama                                 2\n",
      "Family                                    2\n",
      "Spy thriller                              2\n",
      "Anime/Science fiction                     2\n",
      "Mystery                                   2\n",
      "Black comedy                              2\n",
      "Musical comedy                            2\n",
      "Comedy / Musical                          2\n",
      "Musical                                   2\n",
      "Family film                               2\n",
      "Making-of                                 2\n",
      "Superhero                                 2\n",
      "Adventure                                 2\n",
      "Horror-thriller                           2\n",
      "War                                       2\n",
      "Mockumentary                              2\n",
      "Teen comedy horror                        1\n",
      "Family/Christmas musical                  1\n",
      "Science fiction/Action                    1\n",
      "Animation/Musical/Adventure               1\n",
      "Animation / Musicial                      1\n",
      "Animation/Comedy/Adventure                1\n",
      "Crime thriller                            1\n",
      "Action thriller                           1\n",
      "Family/Comedy-drama                       1\n",
      "Teen comedy-drama                         1\n",
      "Science fiction thriller                  1\n",
      "Christmas/Fantasy/Adventure/Comedy        1\n",
      "Musical / Short                           1\n",
      "Anthology/Dark comedy                     1\n",
      "Animation / Science Fiction               1\n",
      "Action-adventure                          1\n",
      "Historical drama                          1\n",
      "Coming-of-age comedy-drama                1\n",
      "Drama-Comedy                              1\n",
      "Mentalism special                         1\n",
      "Animation / Comedy                        1\n",
      "Drama / Short                             1\n",
      "Historical-epic                           1\n",
      "Biographical/Comedy                       1\n",
      "Superhero/Action                          1\n",
      "Variety Show                              1\n",
      "Animated musical comedy                   1\n",
      "Anime/Fantasy                             1\n",
      "Urban fantasy                             1\n",
      "Hidden-camera prank comedy                1\n",
      "Drama/Horror                              1\n",
      "Romantic comedy/Holiday                   1\n",
      "Horror/Crime drama                        1\n",
      "Action/Science fiction                    1\n",
      "Horror comedy                             1\n",
      "Superhero-Comedy                          1\n",
      "Adventure/Comedy                          1\n",
      "Psychological thriller drama              1\n",
      "Romance drama                             1\n",
      "Science fiction/Mystery                   1\n",
      "Romantic teenage drama                    1\n",
      "Action/Comedy                             1\n",
      "Stop Motion                               1\n",
      "Supernatural drama                        1\n",
      "Comedy/Fantasy/Family                     1\n",
      "Anime / Short                             1\n",
      "Heist                                     1\n",
      "Science fiction adventure                 1\n",
      "Christmas musical                         1\n",
      "Animation/Superhero                       1\n",
      "Christian musical                         1\n",
      "Romantic teen drama                       1\n",
      "Comedy horror                             1\n",
      "Political thriller                        1\n",
      "Dance comedy                              1\n",
      "Adventure-romance                         1\n",
      "War-Comedy                                1\n",
      "Christmas comedy                          1\n",
      "Romantic thriller                         1\n",
      "Comedy mystery                            1\n",
      "Sports film                               1\n",
      "Psychological horror                      1\n",
      "Zombie/Heist                              1\n",
      "Fantasy                                   1\n",
      "Comedy/Horror                             1\n",
      "Romantic comedy-drama                     1\n",
      "Heist film/Thriller                       1\n",
      "Musical/Western/Fantasy                   1\n",
      "Horror anthology                          1\n",
      "Animation/Christmas/Comedy/Adventure      1\n",
      "Name: Genre, dtype: int64\n"
     ]
    }
   ],
   "source": [
    "# bu kategoriler:\n",
    "print(df[\"Genre\"].value_counts())"
   ]
  },
  {
   "cell_type": "markdown",
   "id": "abcef1ab",
   "metadata": {
    "papermill": {
     "duration": 0.018219,
     "end_time": "2022-07-23T06:22:33.861332",
     "exception": false,
     "start_time": "2022-07-23T06:22:33.843113",
     "status": "completed"
    },
    "tags": []
   },
   "source": [
    "Veri setinde bulunan filmlerde en çok kullanılan 3 dili bulunuz."
   ]
  },
  {
   "cell_type": "code",
   "execution_count": 22,
   "id": "af4cb794",
   "metadata": {
    "execution": {
     "iopub.execute_input": "2022-07-23T06:22:33.900606Z",
     "iopub.status.busy": "2022-07-23T06:22:33.899645Z",
     "iopub.status.idle": "2022-07-23T06:22:33.909428Z",
     "shell.execute_reply": "2022-07-23T06:22:33.908489Z"
    },
    "papermill": {
     "duration": 0.03181,
     "end_time": "2022-07-23T06:22:33.911672",
     "exception": false,
     "start_time": "2022-07-23T06:22:33.879862",
     "status": "completed"
    },
    "tags": []
   },
   "outputs": [
    {
     "data": {
      "text/plain": [
       "English    401\n",
       "Hindi       33\n",
       "Spanish     31\n",
       "Name: Language, dtype: int64"
      ]
     },
     "execution_count": 22,
     "metadata": {},
     "output_type": "execute_result"
    }
   ],
   "source": [
    "df[\"Language\"].value_counts(sort=True)[0:3]"
   ]
  },
  {
   "cell_type": "markdown",
   "id": "3734cd09",
   "metadata": {
    "papermill": {
     "duration": 0.018488,
     "end_time": "2022-07-23T06:22:33.948604",
     "exception": false,
     "start_time": "2022-07-23T06:22:33.930116",
     "status": "completed"
    },
    "tags": []
   },
   "source": [
    "IMDB puanı en yüksek olan ilk 10 film hangileridir?"
   ]
  },
  {
   "cell_type": "code",
   "execution_count": 23,
   "id": "56e25391",
   "metadata": {
    "execution": {
     "iopub.execute_input": "2022-07-23T06:22:33.989916Z",
     "iopub.status.busy": "2022-07-23T06:22:33.988858Z",
     "iopub.status.idle": "2022-07-23T06:22:34.006254Z",
     "shell.execute_reply": "2022-07-23T06:22:34.005037Z"
    },
    "papermill": {
     "duration": 0.041482,
     "end_time": "2022-07-23T06:22:34.008974",
     "exception": false,
     "start_time": "2022-07-23T06:22:33.967492",
     "status": "completed"
    },
    "tags": []
   },
   "outputs": [
    {
     "data": {
      "text/html": [
       "<div>\n",
       "<style scoped>\n",
       "    .dataframe tbody tr th:only-of-type {\n",
       "        vertical-align: middle;\n",
       "    }\n",
       "\n",
       "    .dataframe tbody tr th {\n",
       "        vertical-align: top;\n",
       "    }\n",
       "\n",
       "    .dataframe thead th {\n",
       "        text-align: right;\n",
       "    }\n",
       "</style>\n",
       "<table border=\"1\" class=\"dataframe\">\n",
       "  <thead>\n",
       "    <tr style=\"text-align: right;\">\n",
       "      <th></th>\n",
       "      <th>Title</th>\n",
       "      <th>Genre</th>\n",
       "      <th>Premiere</th>\n",
       "      <th>Runtime</th>\n",
       "      <th>IMDB_Score</th>\n",
       "      <th>Language</th>\n",
       "    </tr>\n",
       "  </thead>\n",
       "  <tbody>\n",
       "    <tr>\n",
       "      <th>583</th>\n",
       "      <td>David Attenborough: A Life on Our Planet</td>\n",
       "      <td>Documentary</td>\n",
       "      <td>2020-10-04</td>\n",
       "      <td>83</td>\n",
       "      <td>9.0</td>\n",
       "      <td>English</td>\n",
       "    </tr>\n",
       "    <tr>\n",
       "      <th>582</th>\n",
       "      <td>Emicida: AmarElo - It's All For Yesterday</td>\n",
       "      <td>Documentary</td>\n",
       "      <td>2020-12-08</td>\n",
       "      <td>89</td>\n",
       "      <td>8.6</td>\n",
       "      <td>Portuguese</td>\n",
       "    </tr>\n",
       "    <tr>\n",
       "      <th>581</th>\n",
       "      <td>Springsteen on Broadway</td>\n",
       "      <td>One-man show</td>\n",
       "      <td>2018-12-16</td>\n",
       "      <td>153</td>\n",
       "      <td>8.5</td>\n",
       "      <td>English</td>\n",
       "    </tr>\n",
       "    <tr>\n",
       "      <th>580</th>\n",
       "      <td>Winter on Fire: Ukraine's Fight for Freedom</td>\n",
       "      <td>Documentary</td>\n",
       "      <td>2015-10-09</td>\n",
       "      <td>91</td>\n",
       "      <td>8.4</td>\n",
       "      <td>English/Ukranian/Russian</td>\n",
       "    </tr>\n",
       "    <tr>\n",
       "      <th>579</th>\n",
       "      <td>Taylor Swift: Reputation Stadium Tour</td>\n",
       "      <td>Concert Film</td>\n",
       "      <td>2018-12-31</td>\n",
       "      <td>125</td>\n",
       "      <td>8.4</td>\n",
       "      <td>English</td>\n",
       "    </tr>\n",
       "    <tr>\n",
       "      <th>578</th>\n",
       "      <td>Ben Platt: Live from Radio City Music Hall</td>\n",
       "      <td>Concert Film</td>\n",
       "      <td>2020-05-20</td>\n",
       "      <td>85</td>\n",
       "      <td>8.4</td>\n",
       "      <td>English</td>\n",
       "    </tr>\n",
       "    <tr>\n",
       "      <th>577</th>\n",
       "      <td>Dancing with the Birds</td>\n",
       "      <td>Documentary</td>\n",
       "      <td>2019-10-23</td>\n",
       "      <td>51</td>\n",
       "      <td>8.3</td>\n",
       "      <td>English</td>\n",
       "    </tr>\n",
       "    <tr>\n",
       "      <th>576</th>\n",
       "      <td>Cuba and the Cameraman</td>\n",
       "      <td>Documentary</td>\n",
       "      <td>2017-11-24</td>\n",
       "      <td>114</td>\n",
       "      <td>8.3</td>\n",
       "      <td>English</td>\n",
       "    </tr>\n",
       "    <tr>\n",
       "      <th>573</th>\n",
       "      <td>Klaus</td>\n",
       "      <td>Animation/Christmas/Comedy/Adventure</td>\n",
       "      <td>2019-11-15</td>\n",
       "      <td>97</td>\n",
       "      <td>8.2</td>\n",
       "      <td>English</td>\n",
       "    </tr>\n",
       "    <tr>\n",
       "      <th>571</th>\n",
       "      <td>13th</td>\n",
       "      <td>Documentary</td>\n",
       "      <td>2016-10-07</td>\n",
       "      <td>100</td>\n",
       "      <td>8.2</td>\n",
       "      <td>English</td>\n",
       "    </tr>\n",
       "  </tbody>\n",
       "</table>\n",
       "</div>"
      ],
      "text/plain": [
       "                                           Title                                 Genre   Premiere  Runtime  IMDB_Score                  Language\n",
       "583     David Attenborough: A Life on Our Planet                           Documentary 2020-10-04       83         9.0                   English\n",
       "582    Emicida: AmarElo - It's All For Yesterday                           Documentary 2020-12-08       89         8.6                Portuguese\n",
       "581                      Springsteen on Broadway                          One-man show 2018-12-16      153         8.5                   English\n",
       "580  Winter on Fire: Ukraine's Fight for Freedom                           Documentary 2015-10-09       91         8.4  English/Ukranian/Russian\n",
       "579        Taylor Swift: Reputation Stadium Tour                          Concert Film 2018-12-31      125         8.4                   English\n",
       "578   Ben Platt: Live from Radio City Music Hall                          Concert Film 2020-05-20       85         8.4                   English\n",
       "577                       Dancing with the Birds                           Documentary 2019-10-23       51         8.3                   English\n",
       "576                      Cuba and the Cameraman                            Documentary 2017-11-24      114         8.3                   English\n",
       "573                                        Klaus  Animation/Christmas/Comedy/Adventure 2019-11-15       97         8.2                   English\n",
       "571                                         13th                           Documentary 2016-10-07      100         8.2                   English"
      ]
     },
     "execution_count": 23,
     "metadata": {},
     "output_type": "execute_result"
    }
   ],
   "source": [
    "df.sort_values(by=\"IMDB_Score\", ascending=False).head(10)"
   ]
  },
  {
   "cell_type": "markdown",
   "id": "e0698ef4",
   "metadata": {
    "papermill": {
     "duration": 0.018803,
     "end_time": "2022-07-23T06:22:34.047546",
     "exception": false,
     "start_time": "2022-07-23T06:22:34.028743",
     "status": "completed"
    },
    "tags": []
   },
   "source": [
    "IMDB puanı ile 'Runtime' arasında nasıl bir korelasyon vardır? İnceleyip görselleştiriniz."
   ]
  },
  {
   "cell_type": "code",
   "execution_count": 24,
   "id": "28d90fae",
   "metadata": {
    "execution": {
     "iopub.execute_input": "2022-07-23T06:22:34.088171Z",
     "iopub.status.busy": "2022-07-23T06:22:34.087326Z",
     "iopub.status.idle": "2022-07-23T06:22:34.094907Z",
     "shell.execute_reply": "2022-07-23T06:22:34.094067Z"
    },
    "papermill": {
     "duration": 0.030771,
     "end_time": "2022-07-23T06:22:34.097252",
     "exception": false,
     "start_time": "2022-07-23T06:22:34.066481",
     "status": "completed"
    },
    "tags": []
   },
   "outputs": [],
   "source": [
    "def correlation_matrix(df, cols):\n",
    "    fig = plt.gcf()\n",
    "    fig.set_size_inches(10, 8)\n",
    "    plt.xticks(fontsize=10)\n",
    "    plt.yticks(fontsize=10)\n",
    "    fig = sns.heatmap(df[cols].corr(), annot=True, linewidths=0.5, annot_kws={'size': 12}, linecolor='w', cmap='RdBu')\n",
    "    plt.show(block=True)"
   ]
  },
  {
   "cell_type": "code",
   "execution_count": 25,
   "id": "e0f0f696",
   "metadata": {
    "execution": {
     "iopub.execute_input": "2022-07-23T06:22:34.136867Z",
     "iopub.status.busy": "2022-07-23T06:22:34.135853Z",
     "iopub.status.idle": "2022-07-23T06:22:34.148172Z",
     "shell.execute_reply": "2022-07-23T06:22:34.147111Z"
    },
    "papermill": {
     "duration": 0.034881,
     "end_time": "2022-07-23T06:22:34.150703",
     "exception": false,
     "start_time": "2022-07-23T06:22:34.115822",
     "status": "completed"
    },
    "tags": []
   },
   "outputs": [],
   "source": [
    "# kategorik, numerik, numerik görünümlü kategorik ve kategorik ama kardinal değişkenleri düzenleme\n",
    "def grab_col_names(dataframe, cat_th=10, car_th=20):\n",
    "    \"\"\"\n",
    "\n",
    "    Veri setindeki kategorik, numerik ve kategorik fakat kardinal değişkenlerin isimlerini verir.\n",
    "    Not: Kategorik değişkenlerin içerisine numerik görünümlü kategorik değişkenler de dahildir.\n",
    "\n",
    "    Parameters\n",
    "    ------\n",
    "        dataframe: dataframe\n",
    "                Değişken isimleri alınmak istenilen dataframe\n",
    "        cat_th: int, optional\n",
    "                numerik fakat kategorik olan değişkenler için sınıf eşik değeri\n",
    "        car_th: int, optinal\n",
    "                kategorik fakat kardinal değişkenler için sınıf eşik değeri\n",
    "\n",
    "    Returns\n",
    "    ------\n",
    "        cat_cols: list\n",
    "                Kategorik değişken listesi\n",
    "        num_cols: list\n",
    "                Numerik değişken listesi\n",
    "        cat_but_car: list\n",
    "                Kategorik görünümlü kardinal değişken listesi\n",
    "\n",
    "    Examples\n",
    "    ------\n",
    "        import seaborn as sns\n",
    "        df = sns.load_dataset(\"iris\")\n",
    "        print(grab_col_names(df))\n",
    "\n",
    "\n",
    "    Notes\n",
    "    ------\n",
    "        cat_cols + num_cols + cat_but_car = toplam değişken sayısı\n",
    "        num_but_cat cat_cols'un içerisinde.\n",
    "        Return olan 3 liste toplamı toplam değişken sayısına eşittir: cat_cols + num_cols + cat_but_car = değişken sayısı\n",
    "\n",
    "    \"\"\"\n",
    "\n",
    "    # cat_cols, cat_but_car\n",
    "    cat_cols = [col for col in dataframe.columns if dataframe[col].dtypes == \"O\"]\n",
    "    num_but_cat = [col for col in dataframe.columns if dataframe[col].nunique() < cat_th and\n",
    "                   dataframe[col].dtypes != \"O\"]\n",
    "    cat_but_car = [col for col in dataframe.columns if dataframe[col].nunique() > car_th and\n",
    "                   dataframe[col].dtypes == \"O\"]\n",
    "    cat_cols = cat_cols + num_but_cat\n",
    "    cat_cols = [col for col in cat_cols if col not in cat_but_car]\n",
    "\n",
    "    # num_cols\n",
    "    num_cols = [col for col in dataframe.columns if dataframe[col].dtypes != \"O\" and dataframe[col].dtypes != \"datetime64[ns]\"]\n",
    "    num_cols = [col for col in num_cols if col not in num_but_cat]\n",
    "\n",
    "    return cat_cols, num_cols, cat_but_car\n",
    "\n"
   ]
  },
  {
   "cell_type": "code",
   "execution_count": 26,
   "id": "2464aa3e",
   "metadata": {
    "execution": {
     "iopub.execute_input": "2022-07-23T06:22:34.190527Z",
     "iopub.status.busy": "2022-07-23T06:22:34.189562Z",
     "iopub.status.idle": "2022-07-23T06:22:34.198378Z",
     "shell.execute_reply": "2022-07-23T06:22:34.197427Z"
    },
    "papermill": {
     "duration": 0.031254,
     "end_time": "2022-07-23T06:22:34.200721",
     "exception": false,
     "start_time": "2022-07-23T06:22:34.169467",
     "status": "completed"
    },
    "tags": []
   },
   "outputs": [],
   "source": [
    "cat_cols, num_cols, cat_but_car = grab_col_names(df, cat_th=10, car_th=20)"
   ]
  },
  {
   "cell_type": "code",
   "execution_count": 27,
   "id": "a6818d14",
   "metadata": {
    "execution": {
     "iopub.execute_input": "2022-07-23T06:22:34.240612Z",
     "iopub.status.busy": "2022-07-23T06:22:34.239907Z",
     "iopub.status.idle": "2022-07-23T06:22:34.247323Z",
     "shell.execute_reply": "2022-07-23T06:22:34.246152Z"
    },
    "papermill": {
     "duration": 0.029963,
     "end_time": "2022-07-23T06:22:34.249571",
     "exception": false,
     "start_time": "2022-07-23T06:22:34.219608",
     "status": "completed"
    },
    "tags": []
   },
   "outputs": [
    {
     "data": {
      "text/plain": [
       "['Runtime', 'IMDB_Score']"
      ]
     },
     "execution_count": 27,
     "metadata": {},
     "output_type": "execute_result"
    }
   ],
   "source": [
    "num_cols"
   ]
  },
  {
   "cell_type": "code",
   "execution_count": 28,
   "id": "f14bf172",
   "metadata": {
    "execution": {
     "iopub.execute_input": "2022-07-23T06:22:34.289564Z",
     "iopub.status.busy": "2022-07-23T06:22:34.288747Z",
     "iopub.status.idle": "2022-07-23T06:22:34.535934Z",
     "shell.execute_reply": "2022-07-23T06:22:34.534782Z"
    },
    "papermill": {
     "duration": 0.27,
     "end_time": "2022-07-23T06:22:34.538478",
     "exception": false,
     "start_time": "2022-07-23T06:22:34.268478",
     "status": "completed"
    },
    "tags": []
   },
   "outputs": [
    {
     "data": {
      "image/png": "[encoded data removed]",
      "text/plain": [
       "<Figure size 720x576 with 2 Axes>"
      ]
     },
     "metadata": {
      "needs_background": "light"
     },
     "output_type": "display_data"
    }
   ],
   "source": [
    "# num_colsta bulunan IMDB puanı ile 'Runtime' arasındaki korelasyon matrisi:\n",
    "correlation_matrix(df,num_cols)\n",
    "\n",
    "# Çok güçlü korelasyonlar (0.8 ile 1 veya -0.8 ile -1.0 arası değerler)\n",
    "# Güçlü korelasyonlar (0.6 ile 0.8 veya -0.6 ile -0.8 arası değerler)\n",
    "# Orta derece korelasyonlar (0.4 ile 0.6 veya -0.4 ile -0.6 arası değerler)"
   ]
  },
  {
   "cell_type": "markdown",
   "id": "e8df6209",
   "metadata": {
    "papermill": {
     "duration": 0.019965,
     "end_time": "2022-07-23T06:22:34.578262",
     "exception": false,
     "start_time": "2022-07-23T06:22:34.558297",
     "status": "completed"
    },
    "tags": []
   },
   "source": [
    "IMDB Puanı en yüksek olan ilk 10 'Genre' hangileridir? Görselleştiriniz."
   ]
  },
  {
   "cell_type": "code",
   "execution_count": 29,
   "id": "d0c559f9",
   "metadata": {
    "execution": {
     "iopub.execute_input": "2022-07-23T06:22:34.619658Z",
     "iopub.status.busy": "2022-07-23T06:22:34.619260Z",
     "iopub.status.idle": "2022-07-23T06:22:34.635611Z",
     "shell.execute_reply": "2022-07-23T06:22:34.634196Z"
    },
    "papermill": {
     "duration": 0.039643,
     "end_time": "2022-07-23T06:22:34.637976",
     "exception": false,
     "start_time": "2022-07-23T06:22:34.598333",
     "status": "completed"
    },
    "tags": []
   },
   "outputs": [
    {
     "name": "stdout",
     "output_type": "stream",
     "text": [
      "                                  Genre  IMDB_Score\n",
      "0                           Documentary         9.0\n",
      "1                          One-man show         8.5\n",
      "2                          Concert Film         8.4\n",
      "3  Animation/Christmas/Comedy/Adventure         8.2\n",
      "4                                 Drama         7.9\n",
      "5                     Animation / Short         7.8\n",
      "6                           Crime drama         7.8\n",
      "7                       Musical / Short         7.7\n",
      "8                             Making-of         7.7\n",
      "9                             War drama         7.7\n"
     ]
    }
   ],
   "source": [
    "# formül\n",
    "def top10genre_imdb(dataframe):\n",
    "    dataframe= dataframe.groupby(\"Genre\").agg({\"IMDB_Score\": \"max\"}).sort_values(by=\"IMDB_Score\", ascending=False)\n",
    "    return(dataframe.head(10))\n",
    "\n",
    "# görselleştirmede kullanabilmek için:\n",
    "topgenre = top10genre_imdb(df)\n",
    "topgenre.reset_index(inplace=True)\n",
    "\n",
    "# ilk 10 genreyi görelim:\n",
    "print(topgenre)"
   ]
  },
  {
   "cell_type": "code",
   "execution_count": 30,
   "id": "a9e6d6f8",
   "metadata": {
    "execution": {
     "iopub.execute_input": "2022-07-23T06:22:34.679869Z",
     "iopub.status.busy": "2022-07-23T06:22:34.679019Z",
     "iopub.status.idle": "2022-07-23T06:22:34.955741Z",
     "shell.execute_reply": "2022-07-23T06:22:34.954574Z"
    },
    "papermill": {
     "duration": 0.30076,
     "end_time": "2022-07-23T06:22:34.958374",
     "exception": false,
     "start_time": "2022-07-23T06:22:34.657614",
     "status": "completed"
    },
    "tags": []
   },
   "outputs": [
    {
     "data": {
      "image/png": "[encoded data removed]",
      "text/plain": [
       "<Figure size 2016x504 with 1 Axes>"
      ]
     },
     "metadata": {
      "needs_background": "light"
     },
     "output_type": "display_data"
    }
   ],
   "source": [
    "f=plt.figure(figsize=(28,7))\n",
    "\n",
    "plt.bar(topgenre.Genre,topgenre.IMDB_Score,width=0.5,\n",
    "        color=\"#f05131\",label=\"IMDB_Score\")\n",
    "\n",
    "plt.ylabel(\"IMDB_Score\")\n",
    "plt.xlabel(\"Genre\")\n",
    "plt.legend()\n",
    "plt.title(\"IMDB Puanı en yüksek olan ilk 10 'Genre'\")\n",
    "plt.show()"
   ]
  },
  {
   "cell_type": "markdown",
   "id": "4f3f33be",
   "metadata": {
    "papermill": {
     "duration": 0.027561,
     "end_time": "2022-07-23T06:22:35.006869",
     "exception": false,
     "start_time": "2022-07-23T06:22:34.979308",
     "status": "completed"
    },
    "tags": []
   },
   "source": [
    "'Runtime' değeri en yüksek olan ilk 10 film hangileridir? Görselleştiriniz."
   ]
  },
  {
   "cell_type": "code",
   "execution_count": 31,
   "id": "63969043",
   "metadata": {
    "execution": {
     "iopub.execute_input": "2022-07-23T06:22:35.049566Z",
     "iopub.status.busy": "2022-07-23T06:22:35.049191Z",
     "iopub.status.idle": "2022-07-23T06:22:35.063554Z",
     "shell.execute_reply": "2022-07-23T06:22:35.062611Z"
    },
    "papermill": {
     "duration": 0.038579,
     "end_time": "2022-07-23T06:22:35.066341",
     "exception": false,
     "start_time": "2022-07-23T06:22:35.027762",
     "status": "completed"
    },
    "tags": []
   },
   "outputs": [
    {
     "name": "stdout",
     "output_type": "stream",
     "text": [
      "                             Title  Runtime\n",
      "0                     The Irishman      209\n",
      "1                      Da 5 Bloods      155\n",
      "2          Springsteen on Broadway      153\n",
      "3               The Forest of Love      151\n",
      "4                         Citation      151\n",
      "5                   Raat Akeli Hai      149\n",
      "6  The Last Days of American Crime      149\n",
      "7                             Ludo      149\n",
      "8                 Army of the Dead      148\n",
      "9                            Drive      147\n"
     ]
    }
   ],
   "source": [
    "# formül:\n",
    "def runtime_title(dataframe):\n",
    "    dataframe= dataframe.groupby(\"Title\").agg({\"Runtime\": \"max\"}).sort_values(by=\"Runtime\", ascending=False)\n",
    "    runtime = dataframe.head(10)\n",
    "    return(runtime)\n",
    "\n",
    "# görselleştirmede kullanabilmek için:\n",
    "runtimett = runtime_title(df)\n",
    "runtimett.reset_index(inplace=True)\n",
    "\n",
    "# ilk 10 filmi görelim:\n",
    "print(runtimett)"
   ]
  },
  {
   "cell_type": "code",
   "execution_count": 32,
   "id": "8daceacc",
   "metadata": {
    "execution": {
     "iopub.execute_input": "2022-07-23T06:22:35.109641Z",
     "iopub.status.busy": "2022-07-23T06:22:35.108910Z",
     "iopub.status.idle": "2022-07-23T06:22:35.388604Z",
     "shell.execute_reply": "2022-07-23T06:22:35.387409Z"
    },
    "papermill": {
     "duration": 0.303816,
     "end_time": "2022-07-23T06:22:35.391221",
     "exception": false,
     "start_time": "2022-07-23T06:22:35.087405",
     "status": "completed"
    },
    "tags": []
   },
   "outputs": [
    {
     "data": {
      "image/png": "[encoded data removed]",
      "text/plain": [
       "<Figure size 2016x504 with 1 Axes>"
      ]
     },
     "metadata": {
      "needs_background": "light"
     },
     "output_type": "display_data"
    }
   ],
   "source": [
    "f=plt.figure(figsize=(28,7))\n",
    "\n",
    "plt.bar(runtimett.Title,runtimett.Runtime,width=0.5,\n",
    "        color=\"#f05131\",label=\"Runtime\")\n",
    "\n",
    "plt.ylabel(\"Runtime\")\n",
    "plt.xlabel(\"Title\")\n",
    "plt.legend()\n",
    "plt.title(\"'Runtime' değeri en yüksek olan ilk 10 film\")\n",
    "plt.show()"
   ]
  },
  {
   "cell_type": "markdown",
   "id": "63e62097",
   "metadata": {
    "papermill": {
     "duration": 0.020426,
     "end_time": "2022-07-23T06:22:35.433174",
     "exception": false,
     "start_time": "2022-07-23T06:22:35.412748",
     "status": "completed"
    },
    "tags": []
   },
   "source": [
    "Hangi yılda en fazla film yayımlanmıştır? Görselleştiriniz."
   ]
  },
  {
   "cell_type": "code",
   "execution_count": 33,
   "id": "91bd1793",
   "metadata": {
    "execution": {
     "iopub.execute_input": "2022-07-23T06:22:35.477103Z",
     "iopub.status.busy": "2022-07-23T06:22:35.475964Z",
     "iopub.status.idle": "2022-07-23T06:22:35.486908Z",
     "shell.execute_reply": "2022-07-23T06:22:35.485677Z"
    },
    "papermill": {
     "duration": 0.035906,
     "end_time": "2022-07-23T06:22:35.489626",
     "exception": false,
     "start_time": "2022-07-23T06:22:35.453720",
     "status": "completed"
    },
    "tags": []
   },
   "outputs": [],
   "source": [
    "df['Year'] = df['Premiere'].dt.year\n",
    "year = df['Year'].value_counts(sort=True)\n",
    "year = year.to_frame().reset_index()\n",
    "year.columns = ['Year', 'Count']"
   ]
  },
  {
   "cell_type": "code",
   "execution_count": 34,
   "id": "c005f73e",
   "metadata": {
    "execution": {
     "iopub.execute_input": "2022-07-23T06:22:35.532815Z",
     "iopub.status.busy": "2022-07-23T06:22:35.531939Z",
     "iopub.status.idle": "2022-07-23T06:22:35.540220Z",
     "shell.execute_reply": "2022-07-23T06:22:35.538844Z"
    },
    "papermill": {
     "duration": 0.032383,
     "end_time": "2022-07-23T06:22:35.542508",
     "exception": false,
     "start_time": "2022-07-23T06:22:35.510125",
     "status": "completed"
    },
    "tags": []
   },
   "outputs": [
    {
     "name": "stdout",
     "output_type": "stream",
     "text": [
      "   Year  Count\n",
      "0  2020    183\n",
      "1  2019    125\n",
      "2  2018     99\n",
      "3  2021     71\n",
      "4  2017     66\n",
      "5  2016     30\n",
      "6  2015      9\n",
      "7  2014      1\n"
     ]
    }
   ],
   "source": [
    "print(year)"
   ]
  },
  {
   "cell_type": "code",
   "execution_count": 35,
   "id": "efce8db0",
   "metadata": {
    "execution": {
     "iopub.execute_input": "2022-07-23T06:22:35.587248Z",
     "iopub.status.busy": "2022-07-23T06:22:35.586374Z",
     "iopub.status.idle": "2022-07-23T06:22:35.837880Z",
     "shell.execute_reply": "2022-07-23T06:22:35.836999Z"
    },
    "papermill": {
     "duration": 0.27653,
     "end_time": "2022-07-23T06:22:35.840221",
     "exception": false,
     "start_time": "2022-07-23T06:22:35.563691",
     "status": "completed"
    },
    "tags": []
   },
   "outputs": [
    {
     "data": {
      "image/png": "[encoded data removed]",
      "text/plain": [
       "<Figure size 1080x720 with 1 Axes>"
      ]
     },
     "metadata": {
      "needs_background": "light"
     },
     "output_type": "display_data"
    }
   ],
   "source": [
    "f=plt.figure(figsize=(15,10))\n",
    "\n",
    "plt.bar(year.Year,year.Count,width=0.5,\n",
    "        color=\"#f05131\",label=\"Count\")\n",
    "\n",
    "plt.ylabel(\"Count\")\n",
    "plt.xlabel(\"Year\")\n",
    "plt.legend()\n",
    "plt.title(\"Yıllara göre yayımlanan film sayısı\")\n",
    "plt.show()"
   ]
  },
  {
   "cell_type": "markdown",
   "id": "42b8d901",
   "metadata": {
    "papermill": {
     "duration": 0.020397,
     "end_time": "2022-07-23T06:22:35.881467",
     "exception": false,
     "start_time": "2022-07-23T06:22:35.861070",
     "status": "completed"
    },
    "tags": []
   },
   "source": [
    "Hangi dilde yayımlanan filmler en düşük ortalama IMBD puanına sahiptir? Görselleştiriniz."
   ]
  },
  {
   "cell_type": "code",
   "execution_count": 36,
   "id": "76f7da32",
   "metadata": {
    "execution": {
     "iopub.execute_input": "2022-07-23T06:22:35.924954Z",
     "iopub.status.busy": "2022-07-23T06:22:35.924280Z",
     "iopub.status.idle": "2022-07-23T06:22:35.937603Z",
     "shell.execute_reply": "2022-07-23T06:22:35.936286Z"
    },
    "papermill": {
     "duration": 0.037875,
     "end_time": "2022-07-23T06:22:35.939943",
     "exception": false,
     "start_time": "2022-07-23T06:22:35.902068",
     "status": "completed"
    },
    "tags": []
   },
   "outputs": [
    {
     "name": "stdout",
     "output_type": "stream",
     "text": [
      "           Language  IMDB_Score\n",
      "0             Malay    4.200000\n",
      "1  English/Japanese    4.400000\n",
      "2         Norwegian    5.100000\n",
      "3          Filipino    5.100000\n",
      "4            Polish    5.166667\n",
      "5              Thai    5.450000\n",
      "6           Swedish    5.500000\n",
      "7           Italian    5.542857\n",
      "8    Spanish/Basque    5.600000\n",
      "9            German    5.640000\n"
     ]
    }
   ],
   "source": [
    "# formül:\n",
    "def lowest_imdb(dataframe):\n",
    "    dataframe= dataframe.groupby(\"Language\").agg({\"IMDB_Score\": \"mean\"}).sort_values(by=\"IMDB_Score\", ascending=True)\n",
    "    runtime = dataframe.head(10)\n",
    "    return(runtime)\n",
    "\n",
    "# görselleştirmede kullanabilmek için:\n",
    "low_imb = lowest_imdb(df)\n",
    "low_imb.reset_index(inplace=True)\n",
    "\n",
    "# en düşük imdbli dilleri görelim:\n",
    "print(low_imb)"
   ]
  },
  {
   "cell_type": "code",
   "execution_count": 37,
   "id": "eb9e8ad8",
   "metadata": {
    "execution": {
     "iopub.execute_input": "2022-07-23T06:22:35.983416Z",
     "iopub.status.busy": "2022-07-23T06:22:35.982594Z",
     "iopub.status.idle": "2022-07-23T06:22:36.226987Z",
     "shell.execute_reply": "2022-07-23T06:22:36.225670Z"
    },
    "papermill": {
     "duration": 0.269277,
     "end_time": "2022-07-23T06:22:36.229983",
     "exception": false,
     "start_time": "2022-07-23T06:22:35.960706",
     "status": "completed"
    },
    "tags": []
   },
   "outputs": [
    {
     "data": {
      "image/png": "[encoded data removed]",
      "text/plain": [
       "<Figure size 864x360 with 1 Axes>"
      ]
     },
     "metadata": {
      "needs_background": "light"
     },
     "output_type": "display_data"
    }
   ],
   "source": [
    "\n",
    "f=plt.figure(figsize=(12,5))\n",
    "\n",
    "plt.barh(low_imb.Language,low_imb.IMDB_Score,\n",
    "        color=\"#f05131\",label=\"IMDB_Score\")\n",
    "\n",
    "plt.ylabel(\"Language\")\n",
    "plt.xlabel(\"IMDB_Score\")\n",
    "plt.legend()\n",
    "plt.title(\"en düşük ortalama IMBD puanına sahip diller\")\n",
    "plt.show()"
   ]
  },
  {
   "cell_type": "markdown",
   "id": "a823a5e9",
   "metadata": {
    "papermill": {
     "duration": 0.022203,
     "end_time": "2022-07-23T06:22:36.274824",
     "exception": false,
     "start_time": "2022-07-23T06:22:36.252621",
     "status": "completed"
    },
    "tags": []
   },
   "source": [
    "Hangi yılın toplam \"runtime\" süresi en fazladır?"
   ]
  },
  {
   "cell_type": "code",
   "execution_count": 38,
   "id": "fa407e64",
   "metadata": {
    "execution": {
     "iopub.execute_input": "2022-07-23T06:22:36.322996Z",
     "iopub.status.busy": "2022-07-23T06:22:36.322209Z",
     "iopub.status.idle": "2022-07-23T06:22:36.337041Z",
     "shell.execute_reply": "2022-07-23T06:22:36.335781Z"
    },
    "papermill": {
     "duration": 0.042008,
     "end_time": "2022-07-23T06:22:36.339508",
     "exception": false,
     "start_time": "2022-07-23T06:22:36.297500",
     "status": "completed"
    },
    "tags": []
   },
   "outputs": [
    {
     "data": {
      "text/html": [
       "<div>\n",
       "<style scoped>\n",
       "    .dataframe tbody tr th:only-of-type {\n",
       "        vertical-align: middle;\n",
       "    }\n",
       "\n",
       "    .dataframe tbody tr th {\n",
       "        vertical-align: top;\n",
       "    }\n",
       "\n",
       "    .dataframe thead th {\n",
       "        text-align: right;\n",
       "    }\n",
       "</style>\n",
       "<table border=\"1\" class=\"dataframe\">\n",
       "  <thead>\n",
       "    <tr style=\"text-align: right;\">\n",
       "      <th></th>\n",
       "      <th>Runtime</th>\n",
       "    </tr>\n",
       "    <tr>\n",
       "      <th>Year</th>\n",
       "      <th></th>\n",
       "    </tr>\n",
       "  </thead>\n",
       "  <tbody>\n",
       "    <tr>\n",
       "      <th>2020</th>\n",
       "      <td>17384</td>\n",
       "    </tr>\n",
       "  </tbody>\n",
       "</table>\n",
       "</div>"
      ],
      "text/plain": [
       "      Runtime\n",
       "Year         \n",
       "2020    17384"
      ]
     },
     "execution_count": 38,
     "metadata": {},
     "output_type": "execute_result"
    }
   ],
   "source": [
    "df.groupby(\"Year\").agg({\"Runtime\": \"sum\"}).sort_values(by=\"Runtime\", ascending=False).head(1)"
   ]
  },
  {
   "cell_type": "markdown",
   "id": "c903105f",
   "metadata": {
    "papermill": {
     "duration": 0.021348,
     "end_time": "2022-07-23T06:22:36.382731",
     "exception": false,
     "start_time": "2022-07-23T06:22:36.361383",
     "status": "completed"
    },
    "tags": []
   },
   "source": [
    "Her bir dilin en fazla kullanıldığı \"Genre\" nedir?"
   ]
  },
  {
   "cell_type": "code",
   "execution_count": 39,
   "id": "a97080c0",
   "metadata": {
    "execution": {
     "iopub.execute_input": "2022-07-23T06:22:36.428853Z",
     "iopub.status.busy": "2022-07-23T06:22:36.428017Z",
     "iopub.status.idle": "2022-07-23T06:22:36.457030Z",
     "shell.execute_reply": "2022-07-23T06:22:36.455878Z"
    },
    "papermill": {
     "duration": 0.055418,
     "end_time": "2022-07-23T06:22:36.459915",
     "exception": false,
     "start_time": "2022-07-23T06:22:36.404497",
     "status": "completed"
    },
    "tags": []
   },
   "outputs": [
    {
     "data": {
      "text/html": [
       "<div>\n",
       "<style scoped>\n",
       "    .dataframe tbody tr th:only-of-type {\n",
       "        vertical-align: middle;\n",
       "    }\n",
       "\n",
       "    .dataframe tbody tr th {\n",
       "        vertical-align: top;\n",
       "    }\n",
       "\n",
       "    .dataframe thead th {\n",
       "        text-align: right;\n",
       "    }\n",
       "</style>\n",
       "<table border=\"1\" class=\"dataframe\">\n",
       "  <thead>\n",
       "    <tr style=\"text-align: right;\">\n",
       "      <th></th>\n",
       "      <th></th>\n",
       "      <th>Language</th>\n",
       "    </tr>\n",
       "    <tr>\n",
       "      <th>Language</th>\n",
       "      <th>Genre</th>\n",
       "      <th></th>\n",
       "    </tr>\n",
       "  </thead>\n",
       "  <tbody>\n",
       "    <tr>\n",
       "      <th>Bengali</th>\n",
       "      <th>Documentary</th>\n",
       "      <td>1</td>\n",
       "    </tr>\n",
       "    <tr>\n",
       "      <th rowspan=\"3\" valign=\"top\">Dutch</th>\n",
       "      <th>Crime drama</th>\n",
       "      <td>1</td>\n",
       "    </tr>\n",
       "    <tr>\n",
       "      <th>Fantasy</th>\n",
       "      <td>1</td>\n",
       "    </tr>\n",
       "    <tr>\n",
       "      <th>Romantic comedy</th>\n",
       "      <td>1</td>\n",
       "    </tr>\n",
       "    <tr>\n",
       "      <th rowspan=\"101\" valign=\"top\">English</th>\n",
       "      <th>Action</th>\n",
       "      <td>4</td>\n",
       "    </tr>\n",
       "    <tr>\n",
       "      <th>Action comedy</th>\n",
       "      <td>4</td>\n",
       "    </tr>\n",
       "    <tr>\n",
       "      <th>Action thriller</th>\n",
       "      <td>1</td>\n",
       "    </tr>\n",
       "    <tr>\n",
       "      <th>Action-thriller</th>\n",
       "      <td>2</td>\n",
       "    </tr>\n",
       "    <tr>\n",
       "      <th>Action/Comedy</th>\n",
       "      <td>1</td>\n",
       "    </tr>\n",
       "    <tr>\n",
       "      <th>Action/Science fiction</th>\n",
       "      <td>1</td>\n",
       "    </tr>\n",
       "    <tr>\n",
       "      <th>Adventure</th>\n",
       "      <td>2</td>\n",
       "    </tr>\n",
       "    <tr>\n",
       "      <th>Adventure-romance</th>\n",
       "      <td>1</td>\n",
       "    </tr>\n",
       "    <tr>\n",
       "      <th>Adventure/Comedy</th>\n",
       "      <td>1</td>\n",
       "    </tr>\n",
       "    <tr>\n",
       "      <th>Aftershow / Interview</th>\n",
       "      <td>6</td>\n",
       "    </tr>\n",
       "    <tr>\n",
       "      <th>Animated musical comedy</th>\n",
       "      <td>1</td>\n",
       "    </tr>\n",
       "    <tr>\n",
       "      <th>Animation</th>\n",
       "      <td>5</td>\n",
       "    </tr>\n",
       "    <tr>\n",
       "      <th>Animation / Comedy</th>\n",
       "      <td>1</td>\n",
       "    </tr>\n",
       "    <tr>\n",
       "      <th>Animation / Musicial</th>\n",
       "      <td>1</td>\n",
       "    </tr>\n",
       "    <tr>\n",
       "      <th>Animation / Science Fiction</th>\n",
       "      <td>1</td>\n",
       "    </tr>\n",
       "    <tr>\n",
       "      <th>Animation / Short</th>\n",
       "      <td>4</td>\n",
       "    </tr>\n",
       "    <tr>\n",
       "      <th>Animation/Christmas/Comedy/Adventure</th>\n",
       "      <td>1</td>\n",
       "    </tr>\n",
       "    <tr>\n",
       "      <th>Animation/Comedy/Adventure</th>\n",
       "      <td>1</td>\n",
       "    </tr>\n",
       "    <tr>\n",
       "      <th>Animation/Musical/Adventure</th>\n",
       "      <td>1</td>\n",
       "    </tr>\n",
       "    <tr>\n",
       "      <th>Animation/Superhero</th>\n",
       "      <td>1</td>\n",
       "    </tr>\n",
       "    <tr>\n",
       "      <th>Anime / Short</th>\n",
       "      <td>1</td>\n",
       "    </tr>\n",
       "    <tr>\n",
       "      <th>Biographical/Comedy</th>\n",
       "      <td>1</td>\n",
       "    </tr>\n",
       "    <tr>\n",
       "      <th>Biopic</th>\n",
       "      <td>8</td>\n",
       "    </tr>\n",
       "    <tr>\n",
       "      <th>Black comedy</th>\n",
       "      <td>1</td>\n",
       "    </tr>\n",
       "    <tr>\n",
       "      <th>Christian musical</th>\n",
       "      <td>1</td>\n",
       "    </tr>\n",
       "    <tr>\n",
       "      <th>Christmas comedy</th>\n",
       "      <td>1</td>\n",
       "    </tr>\n",
       "    <tr>\n",
       "      <th>Christmas musical</th>\n",
       "      <td>1</td>\n",
       "    </tr>\n",
       "    <tr>\n",
       "      <th>Christmas/Fantasy/Adventure/Comedy</th>\n",
       "      <td>1</td>\n",
       "    </tr>\n",
       "    <tr>\n",
       "      <th>Comedy</th>\n",
       "      <td>30</td>\n",
       "    </tr>\n",
       "    <tr>\n",
       "      <th>Comedy / Musical</th>\n",
       "      <td>2</td>\n",
       "    </tr>\n",
       "    <tr>\n",
       "      <th>Comedy horror</th>\n",
       "      <td>1</td>\n",
       "    </tr>\n",
       "    <tr>\n",
       "      <th>Comedy mystery</th>\n",
       "      <td>1</td>\n",
       "    </tr>\n",
       "    <tr>\n",
       "      <th>Comedy-drama</th>\n",
       "      <td>8</td>\n",
       "    </tr>\n",
       "    <tr>\n",
       "      <th>Comedy/Fantasy/Family</th>\n",
       "      <td>1</td>\n",
       "    </tr>\n",
       "    <tr>\n",
       "      <th>Comedy/Horror</th>\n",
       "      <td>1</td>\n",
       "    </tr>\n",
       "    <tr>\n",
       "      <th>Concert Film</th>\n",
       "      <td>6</td>\n",
       "    </tr>\n",
       "    <tr>\n",
       "      <th>Crime drama</th>\n",
       "      <td>5</td>\n",
       "    </tr>\n",
       "    <tr>\n",
       "      <th>Crime thriller</th>\n",
       "      <td>1</td>\n",
       "    </tr>\n",
       "    <tr>\n",
       "      <th>Dance comedy</th>\n",
       "      <td>1</td>\n",
       "    </tr>\n",
       "    <tr>\n",
       "      <th>Dark comedy</th>\n",
       "      <td>2</td>\n",
       "    </tr>\n",
       "    <tr>\n",
       "      <th>Documentary</th>\n",
       "      <td>120</td>\n",
       "    </tr>\n",
       "    <tr>\n",
       "      <th>Drama</th>\n",
       "      <td>35</td>\n",
       "    </tr>\n",
       "    <tr>\n",
       "      <th>Drama / Short</th>\n",
       "      <td>1</td>\n",
       "    </tr>\n",
       "    <tr>\n",
       "      <th>Drama-Comedy</th>\n",
       "      <td>1</td>\n",
       "    </tr>\n",
       "    <tr>\n",
       "      <th>Drama/Horror</th>\n",
       "      <td>1</td>\n",
       "    </tr>\n",
       "    <tr>\n",
       "      <th>Family</th>\n",
       "      <td>1</td>\n",
       "    </tr>\n",
       "    <tr>\n",
       "      <th>Family film</th>\n",
       "      <td>2</td>\n",
       "    </tr>\n",
       "    <tr>\n",
       "      <th>Family/Christmas musical</th>\n",
       "      <td>1</td>\n",
       "    </tr>\n",
       "    <tr>\n",
       "      <th>Family/Comedy-drama</th>\n",
       "      <td>1</td>\n",
       "    </tr>\n",
       "    <tr>\n",
       "      <th>Heist</th>\n",
       "      <td>1</td>\n",
       "    </tr>\n",
       "    <tr>\n",
       "      <th>Heist film/Thriller</th>\n",
       "      <td>1</td>\n",
       "    </tr>\n",
       "    <tr>\n",
       "      <th>Hidden-camera prank comedy</th>\n",
       "      <td>1</td>\n",
       "    </tr>\n",
       "    <tr>\n",
       "      <th>Historical drama</th>\n",
       "      <td>1</td>\n",
       "    </tr>\n",
       "    <tr>\n",
       "      <th>Historical-epic</th>\n",
       "      <td>1</td>\n",
       "    </tr>\n",
       "    <tr>\n",
       "      <th>Horror</th>\n",
       "      <td>5</td>\n",
       "    </tr>\n",
       "    <tr>\n",
       "      <th>Horror comedy</th>\n",
       "      <td>1</td>\n",
       "    </tr>\n",
       "    <tr>\n",
       "      <th>Horror thriller</th>\n",
       "      <td>3</td>\n",
       "    </tr>\n",
       "    <tr>\n",
       "      <th>Horror-thriller</th>\n",
       "      <td>2</td>\n",
       "    </tr>\n",
       "    <tr>\n",
       "      <th>Horror/Crime drama</th>\n",
       "      <td>1</td>\n",
       "    </tr>\n",
       "    <tr>\n",
       "      <th>Making-of</th>\n",
       "      <td>1</td>\n",
       "    </tr>\n",
       "    <tr>\n",
       "      <th>Mentalism special</th>\n",
       "      <td>1</td>\n",
       "    </tr>\n",
       "    <tr>\n",
       "      <th>Mockumentary</th>\n",
       "      <td>2</td>\n",
       "    </tr>\n",
       "    <tr>\n",
       "      <th>Musical</th>\n",
       "      <td>2</td>\n",
       "    </tr>\n",
       "    <tr>\n",
       "      <th>Musical / Short</th>\n",
       "      <td>1</td>\n",
       "    </tr>\n",
       "    <tr>\n",
       "      <th>Musical comedy</th>\n",
       "      <td>1</td>\n",
       "    </tr>\n",
       "    <tr>\n",
       "      <th>Musical/Western/Fantasy</th>\n",
       "      <td>1</td>\n",
       "    </tr>\n",
       "    <tr>\n",
       "      <th>Mystery</th>\n",
       "      <td>1</td>\n",
       "    </tr>\n",
       "    <tr>\n",
       "      <th>One-man show</th>\n",
       "      <td>3</td>\n",
       "    </tr>\n",
       "    <tr>\n",
       "      <th>Political thriller</th>\n",
       "      <td>1</td>\n",
       "    </tr>\n",
       "    <tr>\n",
       "      <th>Psychological horror</th>\n",
       "      <td>1</td>\n",
       "    </tr>\n",
       "    <tr>\n",
       "      <th>Psychological thriller</th>\n",
       "      <td>4</td>\n",
       "    </tr>\n",
       "    <tr>\n",
       "      <th>Romance</th>\n",
       "      <td>4</td>\n",
       "    </tr>\n",
       "    <tr>\n",
       "      <th>Romantic comedy</th>\n",
       "      <td>27</td>\n",
       "    </tr>\n",
       "    <tr>\n",
       "      <th>Romantic comedy-drama</th>\n",
       "      <td>1</td>\n",
       "    </tr>\n",
       "    <tr>\n",
       "      <th>Romantic comedy/Holiday</th>\n",
       "      <td>1</td>\n",
       "    </tr>\n",
       "    <tr>\n",
       "      <th>Romantic drama</th>\n",
       "      <td>2</td>\n",
       "    </tr>\n",
       "    <tr>\n",
       "      <th>Romantic thriller</th>\n",
       "      <td>1</td>\n",
       "    </tr>\n",
       "    <tr>\n",
       "      <th>Satire</th>\n",
       "      <td>1</td>\n",
       "    </tr>\n",
       "    <tr>\n",
       "      <th>Science fiction</th>\n",
       "      <td>3</td>\n",
       "    </tr>\n",
       "    <tr>\n",
       "      <th>Science fiction adventure</th>\n",
       "      <td>1</td>\n",
       "    </tr>\n",
       "    <tr>\n",
       "      <th>Science fiction/Action</th>\n",
       "      <td>1</td>\n",
       "    </tr>\n",
       "    <tr>\n",
       "      <th>Science fiction/Drama</th>\n",
       "      <td>2</td>\n",
       "    </tr>\n",
       "    <tr>\n",
       "      <th>Science fiction/Mystery</th>\n",
       "      <td>1</td>\n",
       "    </tr>\n",
       "    <tr>\n",
       "      <th>Science fiction/Thriller</th>\n",
       "      <td>4</td>\n",
       "    </tr>\n",
       "    <tr>\n",
       "      <th>Sports-drama</th>\n",
       "      <td>3</td>\n",
       "    </tr>\n",
       "    <tr>\n",
       "      <th>Spy thriller</th>\n",
       "      <td>2</td>\n",
       "    </tr>\n",
       "    <tr>\n",
       "      <th>Stop Motion</th>\n",
       "      <td>1</td>\n",
       "    </tr>\n",
       "    <tr>\n",
       "      <th>Superhero</th>\n",
       "      <td>2</td>\n",
       "    </tr>\n",
       "    <tr>\n",
       "      <th>Superhero-Comedy</th>\n",
       "      <td>1</td>\n",
       "    </tr>\n",
       "    <tr>\n",
       "      <th>Superhero/Action</th>\n",
       "      <td>1</td>\n",
       "    </tr>\n",
       "    <tr>\n",
       "      <th>Teen comedy horror</th>\n",
       "      <td>1</td>\n",
       "    </tr>\n",
       "    <tr>\n",
       "      <th>Teen comedy-drama</th>\n",
       "      <td>1</td>\n",
       "    </tr>\n",
       "    <tr>\n",
       "      <th>Thriller</th>\n",
       "      <td>14</td>\n",
       "    </tr>\n",
       "    <tr>\n",
       "      <th>Urban fantasy</th>\n",
       "      <td>1</td>\n",
       "    </tr>\n",
       "    <tr>\n",
       "      <th>Variety Show</th>\n",
       "      <td>1</td>\n",
       "    </tr>\n",
       "    <tr>\n",
       "      <th>Variety show</th>\n",
       "      <td>4</td>\n",
       "    </tr>\n",
       "    <tr>\n",
       "      <th>War</th>\n",
       "      <td>2</td>\n",
       "    </tr>\n",
       "    <tr>\n",
       "      <th>War drama</th>\n",
       "      <td>1</td>\n",
       "    </tr>\n",
       "    <tr>\n",
       "      <th>War-Comedy</th>\n",
       "      <td>1</td>\n",
       "    </tr>\n",
       "    <tr>\n",
       "      <th>Western</th>\n",
       "      <td>2</td>\n",
       "    </tr>\n",
       "    <tr>\n",
       "      <th>Zombie/Heist</th>\n",
       "      <td>1</td>\n",
       "    </tr>\n",
       "    <tr>\n",
       "      <th>English/Akan</th>\n",
       "      <th>War drama</th>\n",
       "      <td>1</td>\n",
       "    </tr>\n",
       "    <tr>\n",
       "      <th>English/Arabic</th>\n",
       "      <th>Documentary</th>\n",
       "      <td>1</td>\n",
       "    </tr>\n",
       "    <tr>\n",
       "      <th>English/Hindi</th>\n",
       "      <th>Documentary</th>\n",
       "      <td>2</td>\n",
       "    </tr>\n",
       "    <tr>\n",
       "      <th rowspan=\"2\" valign=\"top\">English/Japanese</th>\n",
       "      <th>Crime drama</th>\n",
       "      <td>1</td>\n",
       "    </tr>\n",
       "    <tr>\n",
       "      <th>Documentary</th>\n",
       "      <td>1</td>\n",
       "    </tr>\n",
       "    <tr>\n",
       "      <th>English/Korean</th>\n",
       "      <th>Action-adventure</th>\n",
       "      <td>1</td>\n",
       "    </tr>\n",
       "    <tr>\n",
       "      <th>English/Mandarin</th>\n",
       "      <th>Documentary</th>\n",
       "      <td>2</td>\n",
       "    </tr>\n",
       "    <tr>\n",
       "      <th>English/Russian</th>\n",
       "      <th>Documentary</th>\n",
       "      <td>1</td>\n",
       "    </tr>\n",
       "    <tr>\n",
       "      <th>English/Spanish</th>\n",
       "      <th>Documentary</th>\n",
       "      <td>5</td>\n",
       "    </tr>\n",
       "    <tr>\n",
       "      <th>English/Swedish</th>\n",
       "      <th>Documentary</th>\n",
       "      <td>1</td>\n",
       "    </tr>\n",
       "    <tr>\n",
       "      <th>English/Taiwanese/Mandarin</th>\n",
       "      <th>Drama</th>\n",
       "      <td>1</td>\n",
       "    </tr>\n",
       "    <tr>\n",
       "      <th>English/Ukranian/Russian</th>\n",
       "      <th>Documentary</th>\n",
       "      <td>1</td>\n",
       "    </tr>\n",
       "    <tr>\n",
       "      <th rowspan=\"2\" valign=\"top\">Filipino</th>\n",
       "      <th>Drama</th>\n",
       "      <td>1</td>\n",
       "    </tr>\n",
       "    <tr>\n",
       "      <th>Thriller</th>\n",
       "      <td>1</td>\n",
       "    </tr>\n",
       "    <tr>\n",
       "      <th rowspan=\"9\" valign=\"top\">French</th>\n",
       "      <th>Action</th>\n",
       "      <td>2</td>\n",
       "    </tr>\n",
       "    <tr>\n",
       "      <th>Comedy</th>\n",
       "      <td>2</td>\n",
       "    </tr>\n",
       "    <tr>\n",
       "      <th>Crime drama</th>\n",
       "      <td>1</td>\n",
       "    </tr>\n",
       "    <tr>\n",
       "      <th>Documentary</th>\n",
       "      <td>6</td>\n",
       "    </tr>\n",
       "    <tr>\n",
       "      <th>Drama</th>\n",
       "      <td>2</td>\n",
       "    </tr>\n",
       "    <tr>\n",
       "      <th>Romance drama</th>\n",
       "      <td>1</td>\n",
       "    </tr>\n",
       "    <tr>\n",
       "      <th>Romantic comedy</th>\n",
       "      <td>2</td>\n",
       "    </tr>\n",
       "    <tr>\n",
       "      <th>Science fiction thriller</th>\n",
       "      <td>1</td>\n",
       "    </tr>\n",
       "    <tr>\n",
       "      <th>Thriller</th>\n",
       "      <td>3</td>\n",
       "    </tr>\n",
       "    <tr>\n",
       "      <th>Georgian</th>\n",
       "      <th>Documentary</th>\n",
       "      <td>1</td>\n",
       "    </tr>\n",
       "    <tr>\n",
       "      <th rowspan=\"5\" valign=\"top\">German</th>\n",
       "      <th>Drama</th>\n",
       "      <td>1</td>\n",
       "    </tr>\n",
       "    <tr>\n",
       "      <th>Romantic comedy</th>\n",
       "      <td>1</td>\n",
       "    </tr>\n",
       "    <tr>\n",
       "      <th>Satire</th>\n",
       "      <td>1</td>\n",
       "    </tr>\n",
       "    <tr>\n",
       "      <th>Supernatural drama</th>\n",
       "      <td>1</td>\n",
       "    </tr>\n",
       "    <tr>\n",
       "      <th>Thriller</th>\n",
       "      <td>1</td>\n",
       "    </tr>\n",
       "    <tr>\n",
       "      <th rowspan=\"11\" valign=\"top\">Hindi</th>\n",
       "      <th>Action</th>\n",
       "      <td>1</td>\n",
       "    </tr>\n",
       "    <tr>\n",
       "      <th>Anthology/Dark comedy</th>\n",
       "      <td>1</td>\n",
       "    </tr>\n",
       "    <tr>\n",
       "      <th>Comedy</th>\n",
       "      <td>4</td>\n",
       "    </tr>\n",
       "    <tr>\n",
       "      <th>Comedy-drama</th>\n",
       "      <td>2</td>\n",
       "    </tr>\n",
       "    <tr>\n",
       "      <th>Crime drama</th>\n",
       "      <td>1</td>\n",
       "    </tr>\n",
       "    <tr>\n",
       "      <th>Drama</th>\n",
       "      <td>13</td>\n",
       "    </tr>\n",
       "    <tr>\n",
       "      <th>Horror</th>\n",
       "      <td>1</td>\n",
       "    </tr>\n",
       "    <tr>\n",
       "      <th>Horror anthology</th>\n",
       "      <td>1</td>\n",
       "    </tr>\n",
       "    <tr>\n",
       "      <th>Mystery</th>\n",
       "      <td>1</td>\n",
       "    </tr>\n",
       "    <tr>\n",
       "      <th>Romantic comedy</th>\n",
       "      <td>3</td>\n",
       "    </tr>\n",
       "    <tr>\n",
       "      <th>Thriller</th>\n",
       "      <td>5</td>\n",
       "    </tr>\n",
       "    <tr>\n",
       "      <th rowspan=\"5\" valign=\"top\">Indonesian</th>\n",
       "      <th>Action-thriller</th>\n",
       "      <td>1</td>\n",
       "    </tr>\n",
       "    <tr>\n",
       "      <th>Comedy-drama</th>\n",
       "      <td>2</td>\n",
       "    </tr>\n",
       "    <tr>\n",
       "      <th>Drama</th>\n",
       "      <td>3</td>\n",
       "    </tr>\n",
       "    <tr>\n",
       "      <th>Romantic comedy</th>\n",
       "      <td>1</td>\n",
       "    </tr>\n",
       "    <tr>\n",
       "      <th>Romantic drama</th>\n",
       "      <td>2</td>\n",
       "    </tr>\n",
       "    <tr>\n",
       "      <th rowspan=\"9\" valign=\"top\">Italian</th>\n",
       "      <th>Biopic</th>\n",
       "      <td>1</td>\n",
       "    </tr>\n",
       "    <tr>\n",
       "      <th>Comedy</th>\n",
       "      <td>3</td>\n",
       "    </tr>\n",
       "    <tr>\n",
       "      <th>Crime drama</th>\n",
       "      <td>1</td>\n",
       "    </tr>\n",
       "    <tr>\n",
       "      <th>Drama</th>\n",
       "      <td>4</td>\n",
       "    </tr>\n",
       "    <tr>\n",
       "      <th>Romantic drama</th>\n",
       "      <td>1</td>\n",
       "    </tr>\n",
       "    <tr>\n",
       "      <th>Romantic teen drama</th>\n",
       "      <td>1</td>\n",
       "    </tr>\n",
       "    <tr>\n",
       "      <th>Romantic teenage drama</th>\n",
       "      <td>1</td>\n",
       "    </tr>\n",
       "    <tr>\n",
       "      <th>Science fiction/Drama</th>\n",
       "      <td>1</td>\n",
       "    </tr>\n",
       "    <tr>\n",
       "      <th>Sports film</th>\n",
       "      <td>1</td>\n",
       "    </tr>\n",
       "    <tr>\n",
       "      <th rowspan=\"5\" valign=\"top\">Japanese</th>\n",
       "      <th>Anime/Fantasy</th>\n",
       "      <td>1</td>\n",
       "    </tr>\n",
       "    <tr>\n",
       "      <th>Anime/Science fiction</th>\n",
       "      <td>2</td>\n",
       "    </tr>\n",
       "    <tr>\n",
       "      <th>Documentary</th>\n",
       "      <td>1</td>\n",
       "    </tr>\n",
       "    <tr>\n",
       "      <th>Drama</th>\n",
       "      <td>1</td>\n",
       "    </tr>\n",
       "    <tr>\n",
       "      <th>Psychological thriller drama</th>\n",
       "      <td>1</td>\n",
       "    </tr>\n",
       "    <tr>\n",
       "      <th>Khmer/English/French</th>\n",
       "      <th>Drama</th>\n",
       "      <td>1</td>\n",
       "    </tr>\n",
       "    <tr>\n",
       "      <th rowspan=\"5\" valign=\"top\">Korean</th>\n",
       "      <th>Comedy</th>\n",
       "      <td>1</td>\n",
       "    </tr>\n",
       "    <tr>\n",
       "      <th>Documentary</th>\n",
       "      <td>1</td>\n",
       "    </tr>\n",
       "    <tr>\n",
       "      <th>Drama</th>\n",
       "      <td>2</td>\n",
       "    </tr>\n",
       "    <tr>\n",
       "      <th>Science fiction</th>\n",
       "      <td>1</td>\n",
       "    </tr>\n",
       "    <tr>\n",
       "      <th>Thriller</th>\n",
       "      <td>1</td>\n",
       "    </tr>\n",
       "    <tr>\n",
       "      <th>Malay</th>\n",
       "      <th>Action comedy</th>\n",
       "      <td>1</td>\n",
       "    </tr>\n",
       "    <tr>\n",
       "      <th rowspan=\"2\" valign=\"top\">Marathi</th>\n",
       "      <th>Comedy-drama</th>\n",
       "      <td>1</td>\n",
       "    </tr>\n",
       "    <tr>\n",
       "      <th>Drama</th>\n",
       "      <td>2</td>\n",
       "    </tr>\n",
       "    <tr>\n",
       "      <th>Norwegian</th>\n",
       "      <th>Horror</th>\n",
       "      <td>1</td>\n",
       "    </tr>\n",
       "    <tr>\n",
       "      <th rowspan=\"3\" valign=\"top\">Polish</th>\n",
       "      <th>Horror</th>\n",
       "      <td>1</td>\n",
       "    </tr>\n",
       "    <tr>\n",
       "      <th>Romantic comedy</th>\n",
       "      <td>1</td>\n",
       "    </tr>\n",
       "    <tr>\n",
       "      <th>Thriller</th>\n",
       "      <td>1</td>\n",
       "    </tr>\n",
       "    <tr>\n",
       "      <th rowspan=\"5\" valign=\"top\">Portuguese</th>\n",
       "      <th>Comedy</th>\n",
       "      <td>6</td>\n",
       "    </tr>\n",
       "    <tr>\n",
       "      <th>Comedy-drama</th>\n",
       "      <td>1</td>\n",
       "    </tr>\n",
       "    <tr>\n",
       "      <th>Documentary</th>\n",
       "      <td>3</td>\n",
       "    </tr>\n",
       "    <tr>\n",
       "      <th>Romantic comedy</th>\n",
       "      <td>1</td>\n",
       "    </tr>\n",
       "    <tr>\n",
       "      <th>Western</th>\n",
       "      <td>1</td>\n",
       "    </tr>\n",
       "    <tr>\n",
       "      <th rowspan=\"11\" valign=\"top\">Spanish</th>\n",
       "      <th>Comedy</th>\n",
       "      <td>1</td>\n",
       "    </tr>\n",
       "    <tr>\n",
       "      <th>Coming-of-age comedy-drama</th>\n",
       "      <td>1</td>\n",
       "    </tr>\n",
       "    <tr>\n",
       "      <th>Crime drama</th>\n",
       "      <td>1</td>\n",
       "    </tr>\n",
       "    <tr>\n",
       "      <th>Documentary</th>\n",
       "      <td>8</td>\n",
       "    </tr>\n",
       "    <tr>\n",
       "      <th>Drama</th>\n",
       "      <td>8</td>\n",
       "    </tr>\n",
       "    <tr>\n",
       "      <th>Family</th>\n",
       "      <td>1</td>\n",
       "    </tr>\n",
       "    <tr>\n",
       "      <th>Making-of</th>\n",
       "      <td>1</td>\n",
       "    </tr>\n",
       "    <tr>\n",
       "      <th>Musical comedy</th>\n",
       "      <td>1</td>\n",
       "    </tr>\n",
       "    <tr>\n",
       "      <th>Romance</th>\n",
       "      <td>1</td>\n",
       "    </tr>\n",
       "    <tr>\n",
       "      <th>Romantic comedy</th>\n",
       "      <td>2</td>\n",
       "    </tr>\n",
       "    <tr>\n",
       "      <th>Thriller</th>\n",
       "      <td>6</td>\n",
       "    </tr>\n",
       "    <tr>\n",
       "      <th>Spanish/Basque</th>\n",
       "      <th>Black comedy</th>\n",
       "      <td>1</td>\n",
       "    </tr>\n",
       "    <tr>\n",
       "      <th>Spanish/Catalan</th>\n",
       "      <th>Documentary</th>\n",
       "      <td>1</td>\n",
       "    </tr>\n",
       "    <tr>\n",
       "      <th>Spanish/English</th>\n",
       "      <th>Documentary</th>\n",
       "      <td>1</td>\n",
       "    </tr>\n",
       "    <tr>\n",
       "      <th>Swedish</th>\n",
       "      <th>Thriller</th>\n",
       "      <td>1</td>\n",
       "    </tr>\n",
       "    <tr>\n",
       "      <th>Tamil</th>\n",
       "      <th>Drama</th>\n",
       "      <td>1</td>\n",
       "    </tr>\n",
       "    <tr>\n",
       "      <th rowspan=\"2\" valign=\"top\">Thai</th>\n",
       "      <th>Documentary</th>\n",
       "      <td>1</td>\n",
       "    </tr>\n",
       "    <tr>\n",
       "      <th>Horror</th>\n",
       "      <td>1</td>\n",
       "    </tr>\n",
       "    <tr>\n",
       "      <th>Thia/English</th>\n",
       "      <th>Documentary</th>\n",
       "      <td>1</td>\n",
       "    </tr>\n",
       "    <tr>\n",
       "      <th rowspan=\"3\" valign=\"top\">Turkish</th>\n",
       "      <th>Comedy</th>\n",
       "      <td>2</td>\n",
       "    </tr>\n",
       "    <tr>\n",
       "      <th>Drama</th>\n",
       "      <td>2</td>\n",
       "    </tr>\n",
       "    <tr>\n",
       "      <th>Romance</th>\n",
       "      <td>1</td>\n",
       "    </tr>\n",
       "  </tbody>\n",
       "</table>\n",
       "</div>"
      ],
      "text/plain": [
       "                                                                 Language\n",
       "Language                   Genre                                         \n",
       "Bengali                    Documentary                                  1\n",
       "Dutch                      Crime drama                                  1\n",
       "                           Fantasy                                      1\n",
       "                           Romantic comedy                              1\n",
       "English                    Action                                       4\n",
       "                           Action comedy                                4\n",
       "                           Action thriller                              1\n",
       "                           Action-thriller                              2\n",
       "                           Action/Comedy                                1\n",
       "                           Action/Science fiction                       1\n",
       "                           Adventure                                    2\n",
       "                           Adventure-romance                            1\n",
       "                           Adventure/Comedy                             1\n",
       "                           Aftershow / Interview                        6\n",
       "                           Animated musical comedy                      1\n",
       "                           Animation                                    5\n",
       "                           Animation / Comedy                           1\n",
       "                           Animation / Musicial                         1\n",
       "                           Animation / Science Fiction                  1\n",
       "                           Animation / Short                            4\n",
       "                           Animation/Christmas/Comedy/Adventure         1\n",
       "                           Animation/Comedy/Adventure                   1\n",
       "                           Animation/Musical/Adventure                  1\n",
       "                           Animation/Superhero                          1\n",
       "                           Anime / Short                                1\n",
       "                           Biographical/Comedy                          1\n",
       "                           Biopic                                       8\n",
       "                           Black comedy                                 1\n",
       "                           Christian musical                            1\n",
       "                           Christmas comedy                             1\n",
       "                           Christmas musical                            1\n",
       "                           Christmas/Fantasy/Adventure/Comedy           1\n",
       "                           Comedy                                      30\n",
       "                           Comedy / Musical                             2\n",
       "                           Comedy horror                                1\n",
       "                           Comedy mystery                               1\n",
       "                           Comedy-drama                                 8\n",
       "                           Comedy/Fantasy/Family                        1\n",
       "                           Comedy/Horror                                1\n",
       "                           Concert Film                                 6\n",
       "                           Crime drama                                  5\n",
       "                           Crime thriller                               1\n",
       "                           Dance comedy                                 1\n",
       "                           Dark comedy                                  2\n",
       "                           Documentary                                120\n",
       "                           Drama                                       35\n",
       "                           Drama / Short                                1\n",
       "                           Drama-Comedy                                 1\n",
       "                           Drama/Horror                                 1\n",
       "                           Family                                       1\n",
       "                           Family film                                  2\n",
       "                           Family/Christmas musical                     1\n",
       "                           Family/Comedy-drama                          1\n",
       "                           Heist                                        1\n",
       "                           Heist film/Thriller                          1\n",
       "                           Hidden-camera prank comedy                   1\n",
       "                           Historical drama                             1\n",
       "                           Historical-epic                              1\n",
       "                           Horror                                       5\n",
       "                           Horror comedy                                1\n",
       "                           Horror thriller                              3\n",
       "                           Horror-thriller                              2\n",
       "                           Horror/Crime drama                           1\n",
       "                           Making-of                                    1\n",
       "                           Mentalism special                            1\n",
       "                           Mockumentary                                 2\n",
       "                           Musical                                      2\n",
       "                           Musical / Short                              1\n",
       "                           Musical comedy                               1\n",
       "                           Musical/Western/Fantasy                      1\n",
       "                           Mystery                                      1\n",
       "                           One-man show                                 3\n",
       "                           Political thriller                           1\n",
       "                           Psychological horror                         1\n",
       "                           Psychological thriller                       4\n",
       "                           Romance                                      4\n",
       "                           Romantic comedy                             27\n",
       "                           Romantic comedy-drama                        1\n",
       "                           Romantic comedy/Holiday                      1\n",
       "                           Romantic drama                               2\n",
       "                           Romantic thriller                            1\n",
       "                           Satire                                       1\n",
       "                           Science fiction                              3\n",
       "                           Science fiction adventure                    1\n",
       "                           Science fiction/Action                       1\n",
       "                           Science fiction/Drama                        2\n",
       "                           Science fiction/Mystery                      1\n",
       "                           Science fiction/Thriller                     4\n",
       "                           Sports-drama                                 3\n",
       "                           Spy thriller                                 2\n",
       "                           Stop Motion                                  1\n",
       "                           Superhero                                    2\n",
       "                           Superhero-Comedy                             1\n",
       "                           Superhero/Action                             1\n",
       "                           Teen comedy horror                           1\n",
       "                           Teen comedy-drama                            1\n",
       "                           Thriller                                    14\n",
       "                           Urban fantasy                                1\n",
       "                           Variety Show                                 1\n",
       "                           Variety show                                 4\n",
       "                           War                                          2\n",
       "                           War drama                                    1\n",
       "                           War-Comedy                                   1\n",
       "                           Western                                      2\n",
       "                           Zombie/Heist                                 1\n",
       "English/Akan               War drama                                    1\n",
       "English/Arabic             Documentary                                  1\n",
       "English/Hindi              Documentary                                  2\n",
       "English/Japanese           Crime drama                                  1\n",
       "                           Documentary                                  1\n",
       "English/Korean             Action-adventure                             1\n",
       "English/Mandarin           Documentary                                  2\n",
       "English/Russian            Documentary                                  1\n",
       "English/Spanish            Documentary                                  5\n",
       "English/Swedish            Documentary                                  1\n",
       "English/Taiwanese/Mandarin Drama                                        1\n",
       "English/Ukranian/Russian   Documentary                                  1\n",
       "Filipino                   Drama                                        1\n",
       "                           Thriller                                     1\n",
       "French                     Action                                       2\n",
       "                           Comedy                                       2\n",
       "                           Crime drama                                  1\n",
       "                           Documentary                                  6\n",
       "                           Drama                                        2\n",
       "                           Romance drama                                1\n",
       "                           Romantic comedy                              2\n",
       "                           Science fiction thriller                     1\n",
       "                           Thriller                                     3\n",
       "Georgian                   Documentary                                  1\n",
       "German                     Drama                                        1\n",
       "                           Romantic comedy                              1\n",
       "                           Satire                                       1\n",
       "                           Supernatural drama                           1\n",
       "                           Thriller                                     1\n",
       "Hindi                      Action                                       1\n",
       "                           Anthology/Dark comedy                        1\n",
       "                           Comedy                                       4\n",
       "                           Comedy-drama                                 2\n",
       "                           Crime drama                                  1\n",
       "                           Drama                                       13\n",
       "                           Horror                                       1\n",
       "                           Horror anthology                             1\n",
       "                           Mystery                                      1\n",
       "                           Romantic comedy                              3\n",
       "                           Thriller                                     5\n",
       "Indonesian                 Action-thriller                              1\n",
       "                           Comedy-drama                                 2\n",
       "                           Drama                                        3\n",
       "                           Romantic comedy                              1\n",
       "                           Romantic drama                               2\n",
       "Italian                    Biopic                                       1\n",
       "                           Comedy                                       3\n",
       "                           Crime drama                                  1\n",
       "                           Drama                                        4\n",
       "                           Romantic drama                               1\n",
       "                           Romantic teen drama                          1\n",
       "                           Romantic teenage drama                       1\n",
       "                           Science fiction/Drama                        1\n",
       "                           Sports film                                  1\n",
       "Japanese                   Anime/Fantasy                                1\n",
       "                           Anime/Science fiction                        2\n",
       "                           Documentary                                  1\n",
       "                           Drama                                        1\n",
       "                           Psychological thriller drama                 1\n",
       "Khmer/English/French       Drama                                        1\n",
       "Korean                     Comedy                                       1\n",
       "                           Documentary                                  1\n",
       "                           Drama                                        2\n",
       "                           Science fiction                              1\n",
       "                           Thriller                                     1\n",
       "Malay                      Action comedy                                1\n",
       "Marathi                    Comedy-drama                                 1\n",
       "                           Drama                                        2\n",
       "Norwegian                  Horror                                       1\n",
       "Polish                     Horror                                       1\n",
       "                           Romantic comedy                              1\n",
       "                           Thriller                                     1\n",
       "Portuguese                 Comedy                                       6\n",
       "                           Comedy-drama                                 1\n",
       "                           Documentary                                  3\n",
       "                           Romantic comedy                              1\n",
       "                           Western                                      1\n",
       "Spanish                    Comedy                                       1\n",
       "                           Coming-of-age comedy-drama                   1\n",
       "                           Crime drama                                  1\n",
       "                           Documentary                                  8\n",
       "                           Drama                                        8\n",
       "                           Family                                       1\n",
       "                           Making-of                                    1\n",
       "                           Musical comedy                               1\n",
       "                           Romance                                      1\n",
       "                           Romantic comedy                              2\n",
       "                           Thriller                                     6\n",
       "Spanish/Basque             Black comedy                                 1\n",
       "Spanish/Catalan            Documentary                                  1\n",
       "Spanish/English            Documentary                                  1\n",
       "Swedish                    Thriller                                     1\n",
       "Tamil                      Drama                                        1\n",
       "Thai                       Documentary                                  1\n",
       "                           Horror                                       1\n",
       "Thia/English               Documentary                                  1\n",
       "Turkish                    Comedy                                       2\n",
       "                           Drama                                        2\n",
       "                           Romance                                      1"
      ]
     },
     "execution_count": 39,
     "metadata": {},
     "output_type": "execute_result"
    }
   ],
   "source": [
    "df.groupby([\"Language\",\"Genre\"]).agg({\"Language\": \"count\"})"
   ]
  },
  {
   "cell_type": "markdown",
   "id": "df6fd2c0",
   "metadata": {
    "papermill": {
     "duration": 0.023261,
     "end_time": "2022-07-23T06:22:36.506657",
     "exception": false,
     "start_time": "2022-07-23T06:22:36.483396",
     "status": "completed"
    },
    "tags": []
   },
   "source": [
    "Veri setinde outlier veri var mıdır? Açıklayınız."
   ]
  },
  {
   "cell_type": "code",
   "execution_count": 40,
   "id": "8ab88064",
   "metadata": {
    "execution": {
     "iopub.execute_input": "2022-07-23T06:22:36.555294Z",
     "iopub.status.busy": "2022-07-23T06:22:36.554436Z",
     "iopub.status.idle": "2022-07-23T06:22:36.563461Z",
     "shell.execute_reply": "2022-07-23T06:22:36.562480Z"
    },
    "papermill": {
     "duration": 0.036414,
     "end_time": "2022-07-23T06:22:36.566112",
     "exception": false,
     "start_time": "2022-07-23T06:22:36.529698",
     "status": "completed"
    },
    "tags": []
   },
   "outputs": [],
   "source": [
    "# aykırı gözlem analizi\n",
    "# aykırı değer üst ve alt limitlerini bulma\n",
    "def outlier_thresholds(dataframe, col_name, q1=0.25, q3=0.75):\n",
    "    quartile1 = dataframe[col_name].quantile(q1)\n",
    "    quartile3 = dataframe[col_name].quantile(q3)\n",
    "    interquantile_range = quartile3 - quartile1\n",
    "    up_limit = quartile3 + 1.5 * interquantile_range\n",
    "    low_limit = quartile1 - 1.5 * interquantile_range\n",
    "    return low_limit, up_limit\n",
    "\n",
    "def check_outlier(dataframe, col_name, q1=0.25, q3=0.75):\n",
    "    low_limit, up_limit = outlier_thresholds(dataframe, col_name, q1, q3)\n",
    "    if dataframe[(dataframe[col_name] > up_limit) | (dataframe[col_name] < low_limit)].any(axis=None):\n",
    "        return True\n",
    "    else:\n",
    "        return False"
   ]
  },
  {
   "cell_type": "code",
   "execution_count": 41,
   "id": "c58eeb7c",
   "metadata": {
    "execution": {
     "iopub.execute_input": "2022-07-23T06:22:36.615885Z",
     "iopub.status.busy": "2022-07-23T06:22:36.615067Z",
     "iopub.status.idle": "2022-07-23T06:22:36.630954Z",
     "shell.execute_reply": "2022-07-23T06:22:36.629315Z"
    },
    "papermill": {
     "duration": 0.043914,
     "end_time": "2022-07-23T06:22:36.633828",
     "exception": false,
     "start_time": "2022-07-23T06:22:36.589914",
     "status": "completed"
    },
    "tags": []
   },
   "outputs": [
    {
     "name": "stdout",
     "output_type": "stream",
     "text": [
      "Runtime True\n",
      "IMDB_Score True\n"
     ]
    }
   ],
   "source": [
    "# aykırı gözlem varsa true\n",
    "for col in num_cols:\n",
    "    print(col, check_outlier(df, col))"
   ]
  },
  {
   "cell_type": "code",
   "execution_count": 42,
   "id": "456d0055",
   "metadata": {
    "execution": {
     "iopub.execute_input": "2022-07-23T06:22:36.684146Z",
     "iopub.status.busy": "2022-07-23T06:22:36.683648Z",
     "iopub.status.idle": "2022-07-23T06:22:36.978796Z",
     "shell.execute_reply": "2022-07-23T06:22:36.977465Z"
    },
    "papermill": {
     "duration": 0.324036,
     "end_time": "2022-07-23T06:22:36.982448",
     "exception": false,
     "start_time": "2022-07-23T06:22:36.658412",
     "status": "completed"
    },
    "tags": []
   },
   "outputs": [
    {
     "data": {
      "image/png": "[encoded data removed]",
      "text/plain": [
       "<Figure size 432x288 with 1 Axes>"
      ]
     },
     "metadata": {
      "needs_background": "light"
     },
     "output_type": "display_data"
    },
    {
     "data": {
      "image/png": "[encoded data removed]",
      "text/plain": [
       "<Figure size 432x288 with 1 Axes>"
      ]
     },
     "metadata": {
      "needs_background": "light"
     },
     "output_type": "display_data"
    }
   ],
   "source": [
    "# Grafik Teknikle Aykırı Değerler\n",
    "\n",
    "sns.boxplot(x=df[\"IMDB_Score\"])\n",
    "plt.show()\n",
    "\n",
    "sns.boxplot(x=df[\"Runtime\"])\n",
    "plt.show()"
   ]
  },
  {
   "cell_type": "code",
   "execution_count": 43,
   "id": "7a0de769",
   "metadata": {
    "execution": {
     "iopub.execute_input": "2022-07-23T06:22:37.035061Z",
     "iopub.status.busy": "2022-07-23T06:22:37.033962Z",
     "iopub.status.idle": "2022-07-23T06:22:37.039979Z",
     "shell.execute_reply": "2022-07-23T06:22:37.039082Z"
    },
    "papermill": {
     "duration": 0.033941,
     "end_time": "2022-07-23T06:22:37.042216",
     "exception": false,
     "start_time": "2022-07-23T06:22:37.008275",
     "status": "completed"
    },
    "tags": []
   },
   "outputs": [],
   "source": [
    "# aykırı değerleri üst ve alt limitler ile değiştirme\n",
    "def replace_with_thresholds(dataframe, variable):\n",
    "    low_limit, up_limit = outlier_thresholds(dataframe, variable)\n",
    "    dataframe.loc[(dataframe[variable] < low_limit), variable] = low_limit\n",
    "    dataframe.loc[(dataframe[variable] > up_limit), variable] = up_limit"
   ]
  },
  {
   "cell_type": "code",
   "execution_count": 44,
   "id": "071a4e1e",
   "metadata": {
    "execution": {
     "iopub.execute_input": "2022-07-23T06:22:37.092284Z",
     "iopub.status.busy": "2022-07-23T06:22:37.091480Z",
     "iopub.status.idle": "2022-07-23T06:22:37.103392Z",
     "shell.execute_reply": "2022-07-23T06:22:37.102140Z"
    },
    "papermill": {
     "duration": 0.040789,
     "end_time": "2022-07-23T06:22:37.106494",
     "exception": false,
     "start_time": "2022-07-23T06:22:37.065705",
     "status": "completed"
    },
    "tags": []
   },
   "outputs": [
    {
     "name": "stdout",
     "output_type": "stream",
     "text": [
      "Runtime None\n",
      "IMDB_Score None\n"
     ]
    }
   ],
   "source": [
    "for col in num_cols:\n",
    "    print(col, replace_with_thresholds(df, col))"
   ]
  },
  {
   "cell_type": "code",
   "execution_count": 45,
   "id": "739d9d8f",
   "metadata": {
    "execution": {
     "iopub.execute_input": "2022-07-23T06:22:37.158372Z",
     "iopub.status.busy": "2022-07-23T06:22:37.157471Z",
     "iopub.status.idle": "2022-07-23T06:22:37.172199Z",
     "shell.execute_reply": "2022-07-23T06:22:37.170955Z"
    },
    "papermill": {
     "duration": 0.043985,
     "end_time": "2022-07-23T06:22:37.175306",
     "exception": false,
     "start_time": "2022-07-23T06:22:37.131321",
     "status": "completed"
    },
    "tags": []
   },
   "outputs": [
    {
     "name": "stdout",
     "output_type": "stream",
     "text": [
      "Runtime False\n",
      "IMDB_Score False\n"
     ]
    }
   ],
   "source": [
    "# aykırı gözlemler düzeldi mi (false oldu mu)\n",
    "for col in num_cols:\n",
    "    print(col, check_outlier(df, col))"
   ]
  },
  {
   "cell_type": "code",
   "execution_count": 46,
   "id": "e7c1b708",
   "metadata": {
    "execution": {
     "iopub.execute_input": "2022-07-23T06:22:37.225639Z",
     "iopub.status.busy": "2022-07-23T06:22:37.224807Z",
     "iopub.status.idle": "2022-07-23T06:22:37.516904Z",
     "shell.execute_reply": "2022-07-23T06:22:37.515557Z"
    },
    "papermill": {
     "duration": 0.321295,
     "end_time": "2022-07-23T06:22:37.520603",
     "exception": false,
     "start_time": "2022-07-23T06:22:37.199308",
     "status": "completed"
    },
    "tags": []
   },
   "outputs": [
    {
     "data": {
      "image/png": "[encoded data removed]",
      "text/plain": [
       "<Figure size 432x288 with 1 Axes>"
      ]
     },
     "metadata": {
      "needs_background": "light"
     },
     "output_type": "display_data"
    },
    {
     "data": {
      "image/png": "[encoded data removed]",
      "text/plain": [
       "<Figure size 432x288 with 1 Axes>"
      ]
     },
     "metadata": {
      "needs_background": "light"
     },
     "output_type": "display_data"
    }
   ],
   "source": [
    "# Grafik Teknikle Baskıladığımız Aykırı Değerlere Tekrar bakalım\n",
    "\n",
    "sns.boxplot(x=df[\"IMDB_Score\"])\n",
    "plt.show()\n",
    "\n",
    "sns.boxplot(x=df[\"Runtime\"])\n",
    "plt.show()"
   ]
  }
 ],
 "metadata": {
  "kernelspec": {
   "display_name": "Python 3",
   "language": "python",
   "name": "python3"
  },
  "language_info": {
   "codemirror_mode": {
    "name": "ipython",
    "version": 3
   },
   "file_extension": ".py",
   "mimetype": "text/x-python",
   "name": "python",
   "nbconvert_exporter": "python",
   "pygments_lexer": "ipython3",
   "version": "3.7.12"
  },
  "papermill": {
   "default_parameters": {},
   "duration": 19.177552,
   "end_time": "2022-07-23T06:22:38.368598",
   "environment_variables": {},
   "exception": null,
   "input_path": "__notebook__.ipynb",
   "output_path": "__notebook__.ipynb",
   "parameters": {},
   "start_time": "2022-07-23T06:22:19.191046",
   "version": "2.3.4"
  }
 },
 "nbformat": 4,
 "nbformat_minor": 5
}
